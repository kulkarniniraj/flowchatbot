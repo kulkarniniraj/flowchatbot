{
 "cells": [
  {
   "cell_type": "code",
   "execution_count": 2,
   "metadata": {},
   "outputs": [],
   "source": [
    "# hide\n",
    "%load_ext autoreload\n",
    "%autoreload 2"
   ]
  },
  {
   "cell_type": "code",
   "execution_count": 1,
   "metadata": {},
   "outputs": [],
   "source": [
    "#hide\n",
    "from flowchatbot import *"
   ]
  },
  {
   "cell_type": "markdown",
   "metadata": {},
   "source": [
    "# Flow Chatbot library\n",
    "\n",
    "> A chatbot library to build bots from flowchart"
   ]
  },
  {
   "cell_type": "markdown",
   "metadata": {},
   "source": [
    "This is a small library to create flow based chatbots, like getting information from user, filling forms, asking multiple choice questions etc. \n",
    "\n",
    "Need for this arose when we built a chatbot for various domains mainly for customer interaction and feedback and realised that most of the requirements are satisfied with a deterministic flow based bot.\n",
    "\n",
    "Few class names given in API were inspired from fluid/water piping model."
   ]
  },
  {
   "cell_type": "markdown",
   "metadata": {},
   "source": [
    "## Install"
   ]
  },
  {
   "cell_type": "markdown",
   "metadata": {},
   "source": [
    "Clone this repo and copy flowchatbot folder in your source folder"
   ]
  },
  {
   "cell_type": "markdown",
   "metadata": {},
   "source": [
    "## Documentation\n",
    "Please visit [docs](https://kulkarniniraj.github.io/flowchatbot/)"
   ]
  },
  {
   "cell_type": "markdown",
   "metadata": {},
   "source": [
    "## How to use"
   ]
  },
  {
   "cell_type": "markdown",
   "metadata": {},
   "source": [
    "### Concepts"
   ]
  },
  {
   "cell_type": "markdown",
   "metadata": {},
   "source": [
    "It is easier to understand classes from regular flowchart elements. \n",
    "- A `Pipe` is baseclass defining few properties for all elements\n",
    "- A `Segment` and its subclasses are regular process element of flowchart definig one operation\n",
    "- A `Splitter`/`SkipSplitter` is decision making element\n",
    "- A `Composite`/`LoopComposite` is Subroutine element which contains a bunch of child elements"
   ]
  },
  {
   "cell_type": "markdown",
   "metadata": {},
   "source": [
    "Each element takes a string key argument in constructor. This is used for:\n",
    "- identifying children dynamically\n",
    "- saving current chatbot position in data dict to maintain session\n",
    "- as a key in data dict to save element's data"
   ]
  },
  {
   "cell_type": "markdown",
   "metadata": {},
   "source": [
    "A bot generally consists of parent `Composite` object with all flow defined inside.\n",
    "Each element supports `question` and `answer` method for interaction. `question` is where you get question corresponding to data it seeks from user. `answer` is response returned after obtaining data, including error messages."
   ]
  },
  {
   "cell_type": "markdown",
   "metadata": {},
   "source": [
    "Data and state for each element is stored in a `dict` object passed to it. For hierarchical elements like `Composite`, data dict nest data dict of child elements.\n",
    "So a nested dict may look like:\n",
    "- A\n",
    "    - data for A\n",
    "    - B\n",
    "        - data for B\n",
    "        - E\n",
    "            - data for E\n",
    "    - C\n",
    "        - data for C\n",
    "    - D\n",
    "        - data for D"
   ]
  },
  {
   "cell_type": "markdown",
   "metadata": {},
   "source": [
    "An adapter is built on top to simplify question answer process. Given `TextAdapater` had just one method, `respond` which first call answer method of root node with user response, then seeks next question and prints it.\n",
    "\n",
    "`TextAdapter` stores all data in redis for session management. An alternative adapter can use any available method for session management if redis does not server purpose. Chatbot implementation and data persistance management are separated."
   ]
  },
  {
   "cell_type": "markdown",
   "metadata": {
    "heading_collapsed": true
   },
   "source": [
    "### A simple hello world bot"
   ]
  },
  {
   "cell_type": "code",
   "execution_count": 7,
   "metadata": {
    "hidden": true
   },
   "outputs": [
    {
     "name": "stdout",
     "output_type": "stream",
     "text": [
      "Hello World!\n",
      "\n"
     ]
    }
   ],
   "source": [
    "from flowchatbot import *\n",
    "\n",
    "bot = TextAdapter(\n",
    "            Composite('key1',\n",
    "                Segment('key2', '', 'Hello World!')\n",
    "                           ))\n",
    "bot.r.flushall() # clear all old sessions\n",
    "\n",
    "print(bot.respond('hi', 0)) # 0 is session id, used as key in redis"
   ]
  },
  {
   "cell_type": "markdown",
   "metadata": {
    "hidden": true
   },
   "source": [
    "First line shows response to input 'hi'\n",
    "The blank last line means bot has restarted from top and has a blank question.\n",
    "\n",
    "Let's add some question"
   ]
  },
  {
   "cell_type": "code",
   "execution_count": 8,
   "metadata": {
    "hidden": true
   },
   "outputs": [
    {
     "name": "stdout",
     "output_type": "stream",
     "text": [
      "Hello World!\n",
      "Loop again?\n",
      "Hello World!\n",
      "Loop again?\n"
     ]
    }
   ],
   "source": [
    "from flowchatbot import *\n",
    "\n",
    "bot = TextAdapter(\n",
    "            Composite('key1',\n",
    "                Segment('key2', 'Loop again?', 'Hello World!')\n",
    "                           ))\n",
    "bot.r.flushall() # clear all old sessions\n",
    "\n",
    "print(bot.respond('hi', 0)) # 0 is session id, used as key in redis\n",
    "\n",
    "print(bot.respond('hello', 0))"
   ]
  },
  {
   "cell_type": "markdown",
   "metadata": {},
   "source": [
    "### Q&A bot"
   ]
  },
  {
   "cell_type": "code",
   "execution_count": 9,
   "metadata": {},
   "outputs": [
    {
     "name": "stdout",
     "output_type": "stream",
     "text": [
      "Welcome to QnA bot\n",
      "Your name?\n",
      "got it\n",
      "Your phone?\n",
      "got it\n",
      "Your email?\n",
      "got it\n",
      "\n"
     ]
    }
   ],
   "source": [
    "from flowchatbot import *\n",
    "bot = TextAdapter(\n",
    "            Composite('key1',\n",
    "                  Segment('key2', '', 'Welcome to QnA bot'),\n",
    "                  Segment('key3', 'Your name?', 'got it'),\n",
    "                  Segment('key4', 'Your phone?', 'got it'),\n",
    "                  Segment('key5', 'Your email?', 'got it'),\n",
    "                           ))\n",
    "bot.r.flushall() # clear all old sessions\n",
    "\n",
    "print(bot.respond('hi', 0))\n",
    "print(bot.respond('Test123', 0))\n",
    "print(bot.respond('12312313', 0))\n",
    "print(bot.respond('a@b.c', 0))"
   ]
  },
  {
   "cell_type": "markdown",
   "metadata": {},
   "source": [
    "#### Validate inputs"
   ]
  },
  {
   "cell_type": "code",
   "execution_count": 26,
   "metadata": {},
   "outputs": [],
   "source": [
    "import re\n",
    "def validate_phone(data):\n",
    "    if re.match('\\d{10}', data) is not None:\n",
    "        return 1\n",
    "    return 0\n",
    "\n",
    "def validate_email(data):\n",
    "    if re.match('[a-zA-Z0-9_]+@[a-zA-Z0-9_.]+\\.[a-zA-Z0-9_]', data) is not None:\n",
    "        return 1\n",
    "    return 0\n"
   ]
  },
  {
   "cell_type": "code",
   "execution_count": 32,
   "metadata": {},
   "outputs": [
    {
     "name": "stdout",
     "output_type": "stream",
     "text": [
      "Welcome to QnA bot\n",
      "Your name?\n",
      "got it\n",
      "Your phone?\n",
      "phone num should be 10 digits\n",
      "Your phone?\n",
      "got it\n",
      "Your email?\n",
      "Email should be of format user@server.domain\n",
      "Your email?\n",
      "got it\n",
      "\n"
     ]
    }
   ],
   "source": [
    "from flowchatbot import *\n",
    "bot = TextAdapter(\n",
    "            Composite('key1',\n",
    "                  Segment('key2', '', 'Welcome to QnA bot'),\n",
    "                  Segment('key3', 'Your name?', 'got it'),\n",
    "                  ValidatedSegment('key4', 'Your phone?', 'got it',\n",
    "                                  'phone num should be 10 digits', validate_phone),\n",
    "                  ValidatedSegment('key5', 'Your email?', 'got it',\n",
    "                      'Email should be of format user@server.domain', validate_email),\n",
    "                           ))\n",
    "bot.r.flushall() # clear all old sessions\n",
    "\n",
    "print(bot.respond('hi', 0))\n",
    "print(bot.respond('Test123', 0))\n",
    "print(bot.respond('12312', 0))\n",
    "print(bot.respond('1231231312', 0))\n",
    "print(bot.respond('a@b', 0))\n",
    "print(bot.respond('a@b.c', 0))"
   ]
  },
  {
   "cell_type": "markdown",
   "metadata": {},
   "source": [
    "Get chatbot data at end with"
   ]
  },
  {
   "cell_type": "code",
   "execution_count": 34,
   "metadata": {},
   "outputs": [
    {
     "data": {
      "text/plain": [
       "{'key2': {'data': 'hi'},\n",
       " 'key3': {'data': 'Test123'},\n",
       " 'key4': {'data': '1231231312'},\n",
       " 'key5': {'data': 'a@b.c'},\n",
       " 'pos': 'key2'}"
      ]
     },
     "execution_count": 34,
     "metadata": {},
     "output_type": "execute_result"
    }
   ],
   "source": [
    "bot.get_data(0)"
   ]
  },
  {
   "cell_type": "code",
   "execution_count": null,
   "metadata": {},
   "outputs": [],
   "source": []
  }
 ],
 "metadata": {
  "kernelspec": {
   "display_name": "Python 3",
   "language": "python",
   "name": "python3"
  },
  "language_info": {
   "codemirror_mode": {
    "name": "ipython",
    "version": 3
   },
   "file_extension": ".py",
   "mimetype": "text/x-python",
   "name": "python",
   "nbconvert_exporter": "python",
   "pygments_lexer": "ipython3",
   "version": "3.7.9"
  }
 },
 "nbformat": 4,
 "nbformat_minor": 2
}
