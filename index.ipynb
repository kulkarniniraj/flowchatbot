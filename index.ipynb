{
 "cells": [
  {
   "cell_type": "code",
   "execution_count": 1,
   "metadata": {},
   "outputs": [],
   "source": [
    "# hide\n",
    "%load_ext autoreload\n",
    "%autoreload 2"
   ]
  },
  {
   "cell_type": "code",
   "execution_count": 2,
   "metadata": {},
   "outputs": [],
   "source": [
    "#hide\n",
    "from flowchatbot import *"
   ]
  },
  {
   "cell_type": "markdown",
   "metadata": {},
   "source": [
    "# Flow Chatbot library\n",
    "\n",
    "> A chatbot library to build bots from flowchart"
   ]
  },
  {
   "cell_type": "markdown",
   "metadata": {},
   "source": [
    "This is a small library to create flow based chatbots, like getting information from user, filling forms, asking multiple choice questions etc. \n",
    "\n",
    "Need for this arose when we built a chatbot for various domains mainly for customer interaction and feedback and realised that most of the requirements are satisfied with a deterministic flow based bot.\n",
    "\n",
    "Few class names given in API were inspired from fluid/water piping model."
   ]
  },
  {
   "cell_type": "markdown",
   "metadata": {},
   "source": [
    "## Install"
   ]
  },
  {
   "cell_type": "markdown",
   "metadata": {},
   "source": [
    "Clone this repo and copy flowchatbot folder in your source folder"
   ]
  },
  {
   "cell_type": "markdown",
   "metadata": {},
   "source": [
    "## Documentation\n",
    "Please visit [docs](https://kulkarniniraj.github.io/flowchatbot/)"
   ]
  },
  {
   "cell_type": "markdown",
   "metadata": {},
   "source": [
    "## How to use"
   ]
  },
  {
   "cell_type": "markdown",
   "metadata": {},
   "source": [
    "### Concepts"
   ]
  },
  {
   "cell_type": "markdown",
   "metadata": {},
   "source": [
    "It is easier to understand classes from regular flowchart elements. \n",
    "- A `Pipe` is baseclass defining few properties for all elements\n",
    "- A `Segment` and its subclasses are regular process element of flowchart definig one operation\n",
    "- A `Splitter`/`SkipSplitter` is decision making element\n",
    "- A `Composite`/`LoopComposite` is Subroutine element which contains a bunch of child elements"
   ]
  },
  {
   "cell_type": "markdown",
   "metadata": {},
   "source": [
    "Each element takes a string key argument in constructor. This is used for:\n",
    "- identifying children dynamically\n",
    "- saving current chatbot position in data dict to maintain session\n",
    "- as a key in data dict to save element's data"
   ]
  },
  {
   "cell_type": "markdown",
   "metadata": {},
   "source": [
    "A bot generally consists of parent `Composite` object with all flow defined inside.\n",
    "Each element supports `question` and `answer` method for interaction. `question` is where you get question corresponding to data it seeks from user. `answer` is response returned after obtaining data, including error messages."
   ]
  },
  {
   "cell_type": "markdown",
   "metadata": {},
   "source": [
    "Data and state for each element is stored in a `dict` object passed to it. For hierarchical elements like `Composite`, data dict nest data dict of child elements.\n",
    "So a nested dict may look like:\n",
    "- A\n",
    "    - data for A\n",
    "    - B\n",
    "        - data for B\n",
    "        - E\n",
    "            - data for E\n",
    "    - C\n",
    "        - data for C\n",
    "    - D\n",
    "        - data for D"
   ]
  },
  {
   "cell_type": "markdown",
   "metadata": {},
   "source": [
    "An adapter is built on top to simplify question answer process. Given `TextAdapater` had just one method, `respond` which first call answer method of root node with user response, then seeks next question and prints it.\n",
    "\n",
    "`TextAdapter` stores all data in redis for session management. An alternative adapter can use any available method for session management if redis does not server purpose. Chatbot implementation and data persistance management are separated."
   ]
  },
  {
   "cell_type": "markdown",
   "metadata": {
    "heading_collapsed": true
   },
   "source": [
    "### A simple hello world bot"
   ]
  },
  {
   "cell_type": "code",
   "execution_count": 7,
   "metadata": {
    "hidden": true
   },
   "outputs": [
    {
     "name": "stdout",
     "output_type": "stream",
     "text": [
      "Hello World!\n",
      "\n"
     ]
    }
   ],
   "source": [
    "from flowchatbot import *\n",
    "\n",
    "bot = TextAdapter(\n",
    "            Composite('key1',\n",
    "                Segment('key2', '', 'Hello World!')\n",
    "                           ))\n",
    "bot.r.flushall() # clear all old sessions\n",
    "\n",
    "print(bot.respond('hi', 0)) # 0 is session id, used as key in redis"
   ]
  },
  {
   "cell_type": "markdown",
   "metadata": {
    "hidden": true
   },
   "source": [
    "First line shows response to input 'hi'\n",
    "The blank last line means bot has restarted from top and has a blank question.\n",
    "\n",
    "Let's add some question"
   ]
  },
  {
   "cell_type": "code",
   "execution_count": 37,
   "metadata": {
    "hidden": true
   },
   "outputs": [
    {
     "data": {
      "text/plain": [
       "True"
      ]
     },
     "execution_count": 37,
     "metadata": {},
     "output_type": "execute_result"
    }
   ],
   "source": [
    "from flowchatbot import *\n",
    "\n",
    "bot = TextAdapter(\n",
    "            Composite('key1',\n",
    "                Segment('key2', 'Loop again?', 'Hello World!')\n",
    "                           ))\n",
    "bot.r.flushall() # clear all old sessions"
   ]
  },
  {
   "cell_type": "code",
   "execution_count": 38,
   "metadata": {
    "hidden": true
   },
   "outputs": [
    {
     "name": "stdout",
     "output_type": "stream",
     "text": [
      "Hello World!\n",
      "Loop again?\n"
     ]
    }
   ],
   "source": [
    "print(bot.respond('hi', 0)) # 0 is session id, used as key in redis"
   ]
  },
  {
   "cell_type": "code",
   "execution_count": 39,
   "metadata": {
    "hidden": true
   },
   "outputs": [
    {
     "name": "stdout",
     "output_type": "stream",
     "text": [
      "Hello World!\n",
      "Loop again?\n"
     ]
    }
   ],
   "source": [
    "print(bot.respond('hello', 0))"
   ]
  },
  {
   "cell_type": "markdown",
   "metadata": {},
   "source": [
    "### Q&A bot"
   ]
  },
  {
   "cell_type": "code",
   "execution_count": 40,
   "metadata": {},
   "outputs": [
    {
     "data": {
      "text/plain": [
       "True"
      ]
     },
     "execution_count": 40,
     "metadata": {},
     "output_type": "execute_result"
    }
   ],
   "source": [
    "from flowchatbot import *\n",
    "bot = TextAdapter(\n",
    "            Composite('key1',\n",
    "                  Segment('key2', '', 'Welcome to QnA bot'),\n",
    "                  Segment('key3', 'Your name?', 'got it'),\n",
    "                  Segment('key4', 'Your phone?', 'got it'),\n",
    "                  Segment('key5', 'Your email?', 'got it'),\n",
    "                           ))\n",
    "bot.r.flushall() # clear all old sessions"
   ]
  },
  {
   "cell_type": "code",
   "execution_count": 41,
   "metadata": {},
   "outputs": [
    {
     "name": "stdout",
     "output_type": "stream",
     "text": [
      "Welcome to QnA bot\n",
      "Your name?\n"
     ]
    }
   ],
   "source": [
    "print(bot.respond('hi', 0))"
   ]
  },
  {
   "cell_type": "code",
   "execution_count": 42,
   "metadata": {},
   "outputs": [
    {
     "name": "stdout",
     "output_type": "stream",
     "text": [
      "got it\n",
      "Your phone?\n"
     ]
    }
   ],
   "source": [
    "print(bot.respond('Test123', 0))"
   ]
  },
  {
   "cell_type": "code",
   "execution_count": 43,
   "metadata": {},
   "outputs": [
    {
     "name": "stdout",
     "output_type": "stream",
     "text": [
      "got it\n",
      "Your email?\n"
     ]
    }
   ],
   "source": [
    "print(bot.respond('12312313', 0))"
   ]
  },
  {
   "cell_type": "code",
   "execution_count": 44,
   "metadata": {},
   "outputs": [
    {
     "name": "stdout",
     "output_type": "stream",
     "text": [
      "got it\n",
      "\n"
     ]
    }
   ],
   "source": [
    "print(bot.respond('a@b.c', 0))"
   ]
  },
  {
   "cell_type": "markdown",
   "metadata": {
    "heading_collapsed": true
   },
   "source": [
    "#### Validate inputs"
   ]
  },
  {
   "cell_type": "code",
   "execution_count": 26,
   "metadata": {
    "hidden": true
   },
   "outputs": [],
   "source": [
    "import re\n",
    "def validate_phone(data):\n",
    "    if re.match('\\d{10}', data) is not None:\n",
    "        return 1\n",
    "    return 0\n",
    "\n",
    "def validate_email(data):\n",
    "    if re.match('[a-zA-Z0-9_]+@[a-zA-Z0-9_.]+\\.[a-zA-Z0-9_]', data) is not None:\n",
    "        return 1\n",
    "    return 0\n"
   ]
  },
  {
   "cell_type": "code",
   "execution_count": 45,
   "metadata": {
    "hidden": true
   },
   "outputs": [
    {
     "data": {
      "text/plain": [
       "True"
      ]
     },
     "execution_count": 45,
     "metadata": {},
     "output_type": "execute_result"
    }
   ],
   "source": [
    "from flowchatbot import *\n",
    "bot = TextAdapter(\n",
    "            Composite('key1',\n",
    "                  Segment('key2', '', 'Welcome to QnA bot'),\n",
    "                  Segment('key3', 'Your name?', 'got it'),\n",
    "                  ValidatedSegment('key4', 'Your phone?', 'got it',\n",
    "                                  'phone num should be 10 digits', validate_phone),\n",
    "                  ValidatedSegment('key5', 'Your email?', 'got it',\n",
    "                      'Email should be of format user@server.domain', validate_email),\n",
    "                           ))\n",
    "bot.r.flushall() # clear all old sessions"
   ]
  },
  {
   "cell_type": "code",
   "execution_count": 46,
   "metadata": {
    "hidden": true
   },
   "outputs": [
    {
     "name": "stdout",
     "output_type": "stream",
     "text": [
      "Welcome to QnA bot\n",
      "Your name?\n"
     ]
    }
   ],
   "source": [
    "print(bot.respond('hi', 0))"
   ]
  },
  {
   "cell_type": "code",
   "execution_count": 47,
   "metadata": {
    "hidden": true
   },
   "outputs": [
    {
     "name": "stdout",
     "output_type": "stream",
     "text": [
      "got it\n",
      "Your phone?\n"
     ]
    }
   ],
   "source": [
    "print(bot.respond('Test123', 0))"
   ]
  },
  {
   "cell_type": "code",
   "execution_count": 48,
   "metadata": {
    "hidden": true
   },
   "outputs": [
    {
     "name": "stdout",
     "output_type": "stream",
     "text": [
      "phone num should be 10 digits\n",
      "Your phone?\n"
     ]
    }
   ],
   "source": [
    "print(bot.respond('12312', 0))"
   ]
  },
  {
   "cell_type": "code",
   "execution_count": 49,
   "metadata": {
    "hidden": true
   },
   "outputs": [
    {
     "name": "stdout",
     "output_type": "stream",
     "text": [
      "got it\n",
      "Your email?\n"
     ]
    }
   ],
   "source": [
    "print(bot.respond('1231231312', 0))"
   ]
  },
  {
   "cell_type": "code",
   "execution_count": 50,
   "metadata": {
    "hidden": true
   },
   "outputs": [
    {
     "name": "stdout",
     "output_type": "stream",
     "text": [
      "Email should be of format user@server.domain\n",
      "Your email?\n"
     ]
    }
   ],
   "source": [
    "print(bot.respond('a@b', 0))"
   ]
  },
  {
   "cell_type": "code",
   "execution_count": 51,
   "metadata": {
    "hidden": true
   },
   "outputs": [
    {
     "name": "stdout",
     "output_type": "stream",
     "text": [
      "got it\n",
      "\n"
     ]
    }
   ],
   "source": [
    "print(bot.respond('a@b.c', 0))"
   ]
  },
  {
   "cell_type": "markdown",
   "metadata": {
    "hidden": true
   },
   "source": [
    "Get chatbot data at end with"
   ]
  },
  {
   "cell_type": "code",
   "execution_count": 34,
   "metadata": {
    "hidden": true
   },
   "outputs": [
    {
     "data": {
      "text/plain": [
       "{'key2': {'data': 'hi'},\n",
       " 'key3': {'data': 'Test123'},\n",
       " 'key4': {'data': '1231231312'},\n",
       " 'key5': {'data': 'a@b.c'},\n",
       " 'pos': 'key2'}"
      ]
     },
     "execution_count": 34,
     "metadata": {},
     "output_type": "execute_result"
    }
   ],
   "source": [
    "bot.get_data(0)"
   ]
  },
  {
   "cell_type": "markdown",
   "metadata": {
    "heading_collapsed": true
   },
   "source": [
    "### Chatbot with decision making elements"
   ]
  },
  {
   "cell_type": "markdown",
   "metadata": {
    "hidden": true
   },
   "source": [
    "Let's build a sample bot that asks if soap or hand sanitizer is needed and quotes unit price accordingly\n",
    "1. Ask for choice"
   ]
  },
  {
   "cell_type": "code",
   "execution_count": 11,
   "metadata": {
    "hidden": true
   },
   "outputs": [
    {
     "data": {
      "text/plain": [
       "True"
      ]
     },
     "execution_count": 11,
     "metadata": {},
     "output_type": "execute_result"
    }
   ],
   "source": [
    "from flowchatbot import *\n",
    "bot = TextAdapter(\n",
    "            Composite('key1',\n",
    "                  Segment('key2', '', 'Welcome to Shop bot'),\n",
    "                  Segment('name', 'Your name?', 'got it'),\n",
    "                  MultiChoiceSegment('choice', 'Which item do you want?',\n",
    "                                    ['Soap',\n",
    "                                    'Hand Sanitizer'], 'Sure'), # ask for choice\n",
    "                      \n",
    "                           ))\n",
    "bot.r.flushall() # clear all old sessions"
   ]
  },
  {
   "cell_type": "code",
   "execution_count": 12,
   "metadata": {
    "hidden": true
   },
   "outputs": [
    {
     "name": "stdout",
     "output_type": "stream",
     "text": [
      "Welcome to Shop bot\n",
      "Your name?\n"
     ]
    }
   ],
   "source": [
    "print(bot.respond('hi', 1))"
   ]
  },
  {
   "cell_type": "code",
   "execution_count": 13,
   "metadata": {
    "hidden": true
   },
   "outputs": [
    {
     "name": "stdout",
     "output_type": "stream",
     "text": [
      "got it\n",
      "Which item do you want?\n",
      "1. Soap\n",
      "2. Hand Sanitizer\n"
     ]
    }
   ],
   "source": [
    "print(bot.respond('Testing', 1))"
   ]
  },
  {
   "cell_type": "code",
   "execution_count": 14,
   "metadata": {
    "hidden": true
   },
   "outputs": [
    {
     "name": "stdout",
     "output_type": "stream",
     "text": [
      "Please enter one of 1..2 as answer\n",
      "Which item do you want?\n",
      "1. Soap\n",
      "2. Hand Sanitizer\n"
     ]
    }
   ],
   "source": [
    "print(bot.respond('3', 1))"
   ]
  },
  {
   "cell_type": "code",
   "execution_count": 15,
   "metadata": {
    "hidden": true
   },
   "outputs": [
    {
     "name": "stdout",
     "output_type": "stream",
     "text": [
      "Sure\n",
      "\n"
     ]
    }
   ],
   "source": [
    "print(bot.respond('1', 1))"
   ]
  },
  {
   "cell_type": "code",
   "execution_count": 17,
   "metadata": {
    "hidden": true
   },
   "outputs": [
    {
     "data": {
      "text/plain": [
       "{'key2': {'data': 'hi'},\n",
       " 'name': {'data': 'Testing'},\n",
       " 'choice': {'data': [0, 'Soap']},\n",
       " 'pos': 'key2'}"
      ]
     },
     "execution_count": 17,
     "metadata": {},
     "output_type": "execute_result"
    }
   ],
   "source": [
    "bot.get_data(1)"
   ]
  },
  {
   "cell_type": "markdown",
   "metadata": {
    "hidden": true
   },
   "source": [
    "2. Take branch as per choice"
   ]
  },
  {
   "cell_type": "code",
   "execution_count": 36,
   "metadata": {
    "hidden": true
   },
   "outputs": [
    {
     "data": {
      "text/plain": [
       "True"
      ]
     },
     "execution_count": 36,
     "metadata": {},
     "output_type": "execute_result"
    }
   ],
   "source": [
    "from flowchatbot import *\n",
    "\n",
    "def decide_product(data):\n",
    "    return get_chained_data(data, 'choice', 'data')[0]\n",
    "\n",
    "bot = TextAdapter(\n",
    "            Composite('key1',\n",
    "                  Segment('key2', '', 'Welcome to Shop bot'),\n",
    "                  Segment('name', 'Your name?', 'got it'),\n",
    "                  MultiChoiceSegment('choice', 'Which item do you want?',\n",
    "                                    ['Soap',\n",
    "                                    'Hand Sanitizer'], 'Sure'), # ask for choice\n",
    "                  Splitter('split1', \n",
    "                           Segment('soap', 'Price of one soap is 30 Rs.', 'got it'),\n",
    "                           Segment('sanitize', \n",
    "                                   'Price of hand sanitizer bottle is 60 Rs.', 'got it'),\n",
    "                          decider_fn = decide_product\n",
    "                           )))\n",
    "bot.r.flushall() # clear all old sessions"
   ]
  },
  {
   "cell_type": "code",
   "execution_count": 37,
   "metadata": {
    "hidden": true
   },
   "outputs": [
    {
     "name": "stdout",
     "output_type": "stream",
     "text": [
      "Welcome to Shop bot\n",
      "Your name?\n",
      "got it\n",
      "Which item do you want?\n",
      "1. Soap\n",
      "2. Hand Sanitizer\n"
     ]
    }
   ],
   "source": [
    "print(bot.respond('hi', 1))\n",
    "print(bot.respond('Testing', 1))"
   ]
  },
  {
   "cell_type": "code",
   "execution_count": 38,
   "metadata": {
    "hidden": true
   },
   "outputs": [
    {
     "name": "stdout",
     "output_type": "stream",
     "text": [
      "Please enter one of 1..2 as answer\n",
      "Which item do you want?\n",
      "1. Soap\n",
      "2. Hand Sanitizer\n"
     ]
    }
   ],
   "source": [
    "print(bot.respond('3', 1))"
   ]
  },
  {
   "cell_type": "code",
   "execution_count": 39,
   "metadata": {
    "hidden": true
   },
   "outputs": [
    {
     "name": "stdout",
     "output_type": "stream",
     "text": [
      "Sure\n",
      "Price of hand sanitizer bottle is 60 Rs.\n"
     ]
    }
   ],
   "source": [
    "print(bot.respond('2', 1))"
   ]
  },
  {
   "cell_type": "markdown",
   "metadata": {
    "heading_collapsed": true
   },
   "source": [
    "### Add computation at the end"
   ]
  },
  {
   "cell_type": "code",
   "execution_count": 84,
   "metadata": {
    "hidden": true
   },
   "outputs": [
    {
     "data": {
      "text/plain": [
       "True"
      ]
     },
     "execution_count": 84,
     "metadata": {},
     "output_type": "execute_result"
    }
   ],
   "source": [
    "from flowchatbot import *\n",
    "\n",
    "def decide_product(data):\n",
    "    return get_chained_data(data, 'choice', 'data')[0]\n",
    "\n",
    "class PriceCompute(ComputeSegment):\n",
    "    def answer(self, resp, data):\n",
    "        ch = get_chained_data(data, 'choice', 'data')[0]\n",
    "        price = [30, 60]\n",
    "        try:\n",
    "            vol = int(resp)\n",
    "        except:\n",
    "            vol = 0\n",
    "        cost = vol * price[ch]\n",
    "        set_chained_data(data, 'calculate', 'data', val=cost)\n",
    "        return CHAT_RET.NEXT, {'txt': f'Total cost is {cost} Rs.'}\n",
    "    \n",
    "bot = TextAdapter(\n",
    "            Composite('key1',\n",
    "                  Segment('key2', '', 'Welcome to Shop bot'),\n",
    "                  Segment('name', 'Your name?', 'got it'),\n",
    "                  MultiChoiceSegment('choice', 'Which item do you want?',\n",
    "                                    ['Soap',\n",
    "                                    'Hand Sanitizer'], 'Sure'), # ask for choice\n",
    "                  Splitter('split1', \n",
    "                           Segment('soap', 'Price of one soap is 30 Rs. ' +\n",
    "                           'Put the order?', 'got it'),\n",
    "                           Segment('sanitize', \n",
    "                                   'Price of hand sanitizer bottle is 60 Rs. ' +\n",
    "                                   'Put the order?', 'got it'),\n",
    "                          decider_fn = decide_product\n",
    "                           ),\n",
    "                  PriceCompute('calculate', 'How many units do you want?', '')))\n",
    "bot.r.flushall() # clear all old sessions"
   ]
  },
  {
   "cell_type": "code",
   "execution_count": 85,
   "metadata": {
    "hidden": true
   },
   "outputs": [
    {
     "name": "stdout",
     "output_type": "stream",
     "text": [
      "Welcome to Shop bot\n",
      "Your name?\n",
      "got it\n",
      "Which item do you want?\n",
      "1. Soap\n",
      "2. Hand Sanitizer\n",
      "Please enter one of 1..2 as answer\n",
      "Which item do you want?\n",
      "1. Soap\n",
      "2. Hand Sanitizer\n",
      "Sure\n",
      "Price of hand sanitizer bottle is 60 Rs. Put the order?\n"
     ]
    }
   ],
   "source": [
    "print(bot.respond('hi', 1))\n",
    "print(bot.respond('Testing', 1))\n",
    "print(bot.respond('3', 1))\n",
    "print(bot.respond('2', 1))"
   ]
  },
  {
   "cell_type": "code",
   "execution_count": 86,
   "metadata": {
    "hidden": true
   },
   "outputs": [
    {
     "name": "stdout",
     "output_type": "stream",
     "text": [
      "got it\n",
      "How many units do you want?\n"
     ]
    }
   ],
   "source": [
    "print(bot.respond('yes', 1))"
   ]
  },
  {
   "cell_type": "code",
   "execution_count": 87,
   "metadata": {
    "hidden": true
   },
   "outputs": [
    {
     "name": "stdout",
     "output_type": "stream",
     "text": [
      "Total cost is 300 Rs.\n",
      "\n"
     ]
    }
   ],
   "source": [
    "print(bot.respond('5', 1))"
   ]
  },
  {
   "cell_type": "code",
   "execution_count": 88,
   "metadata": {
    "hidden": true
   },
   "outputs": [
    {
     "data": {
      "text/plain": [
       "{'key2': {'data': 'hi'},\n",
       " 'name': {'data': 'Testing'},\n",
       " 'choice': {'data': [1, 'Hand Sanitizer']},\n",
       " 'split1': {'pos': 'sanitize', 'sanitize': {'data': 'yes'}},\n",
       " 'calculate': {'data': 300},\n",
       " 'pos': 'key2'}"
      ]
     },
     "execution_count": 88,
     "metadata": {},
     "output_type": "execute_result"
    }
   ],
   "source": [
    "bot.get_data(1)"
   ]
  },
  {
   "cell_type": "markdown",
   "metadata": {},
   "source": [
    "## Footer"
   ]
  },
  {
   "cell_type": "code",
   "execution_count": null,
   "metadata": {},
   "outputs": [],
   "source": []
  }
 ],
 "metadata": {
  "kernelspec": {
   "display_name": "Python 3",
   "language": "python",
   "name": "python3"
  },
  "language_info": {
   "codemirror_mode": {
    "name": "ipython",
    "version": 3
   },
   "file_extension": ".py",
   "mimetype": "text/x-python",
   "name": "python",
   "nbconvert_exporter": "python",
   "pygments_lexer": "ipython3",
   "version": "3.7.9"
  }
 },
 "nbformat": 4,
 "nbformat_minor": 2
}
