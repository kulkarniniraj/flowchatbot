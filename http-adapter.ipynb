{
 "cells": [
  {
   "cell_type": "code",
   "execution_count": 1,
   "metadata": {},
   "outputs": [],
   "source": [
    "#default_exp httpadapter"
   ]
  },
  {
   "cell_type": "markdown",
   "metadata": {},
   "source": [
    "# HTTP Adapter \n",
    "\n",
    "> HTTP Adapter for chatbot using flask"
   ]
  },
  {
   "cell_type": "code",
   "execution_count": null,
   "metadata": {},
   "outputs": [],
   "source": [
    "# export\n",
    "from flask import request, Flask\n",
    "import json\n",
    "import redis\n",
    "\n",
    "\"\"\"\n",
    "HTTP based adapter to invoke root element on user reponse.\n",
    "\"\"\"\n",
    "app = Flask(__name__)\n",
    "STATE = {}\n",
    "\n",
    "def init(root):\n",
    "    \"\"\"\n",
    "    Pass root node of chatbot and start server. \n",
    "    This function does not return till server is running\n",
    "    \"\"\"\n",
    "    STATE['root'] = root\n",
    "    STATE['r'] = redis.Redis()\n",
    "    STATE['r'].flushall()\n",
    "    app.run(port=5000, debug=True)\n",
    "\n",
    "def get_data(session):\n",
    "    \"\"\"\n",
    "    Get data for session\n",
    "    \"\"\"\n",
    "    if STATE['r'].exists(session):\n",
    "        data = json.loads(STATE['r'].get(session))\n",
    "    else:\n",
    "        data = {}\n",
    "    return data\n",
    "\n",
    "@app.route('/chat', methods=['POST'])\n",
    "def respond():\n",
    "    \"\"\"\n",
    "    Respond method bound to chat REST endpoint\n",
    "    \"\"\"\n",
    "    print(f'{request.form}')\n",
    "    inp = request.form['user_input']\n",
    "    session = request.form['session']\n",
    "    data = get_data(session)\n",
    "    n, d1 = STATE['root'].answer(inp, data)\n",
    "    d2 = STATE['root'].question(data)\n",
    "    # debug_print(f'adapter data {data}')\n",
    "    STATE['r'].set(session, json.dumps(data))\n",
    "    # return f\"{d1['txt']}\\n{d2['txt']}\"\n",
    "    out = {\n",
    "            'text': '<br>'.join([d1['txt'], d2['txt']])\n",
    "          }\n",
    "    \n",
    "    if 'choices' in d2:\n",
    "        out['b_flag'] = 1\n",
    "        out['btns'] = [{'value': i+1, 'text': x} for (i, x) in \n",
    "                       enumerate(d2['choices'])]\n",
    "    print(data)\n",
    "    return json.dumps(out)"
   ]
  },
  {
   "cell_type": "code",
   "execution_count": 1,
   "metadata": {},
   "outputs": [],
   "source": [
    "# hide\n",
    "#             {'value': 'a1', 'text': 'First Button'}, \n",
    "#                 {'value': 'a2', 'text': 'Second Button'},\n",
    "#                 {'value': 'a3', 'text': 'Third Button with really long text to test multiline'+\n",
    "#                     ' Second line added here'}, {'value': 'a4', \n",
    "#                         'text': 'Fourth Button with really long text to test multiline'+\n",
    "#                                             ' Second line added here'}],\n",
    "    # btns; key for buttons\n",
    "    # value, text: fields\n",
    "    "
   ]
  },
  {
   "cell_type": "markdown",
   "metadata": {},
   "source": [
    "## Sample test code"
   ]
  },
  {
   "cell_type": "code",
   "execution_count": null,
   "metadata": {},
   "outputs": [],
   "source": [
    "import flowchatbot.httpadapter as http\n",
    "from flowchatbot.flowchatbot import Composite, Segment, MultiChoiceSegment\n",
    "\n",
    "bot = Composite('key1',\n",
    "                  Segment('key2', '', 'Welcome to QnA bot'),\n",
    "                  Segment('key3', 'Your name?', 'got it'),\n",
    "                  Segment('key4', 'Your phone?', 'got it'),\n",
    "                  Segment('key5', 'Your email?', 'got it'),\n",
    "                  MultiChoiceSegment('key6', 'Your income bracket?', \n",
    "                      [' < 1L', '1L - 10L', '> 10L'], 'got it')\n",
    "                           )\n",
    "\n",
    "http.init(bot)"
   ]
  }
 ],
 "metadata": {
  "kernelspec": {
   "display_name": "Python 3",
   "language": "python",
   "name": "python3"
  },
  "language_info": {
   "codemirror_mode": {
    "name": "ipython",
    "version": 3
   },
   "file_extension": ".py",
   "mimetype": "text/x-python",
   "name": "python",
   "nbconvert_exporter": "python",
   "pygments_lexer": "ipython3",
   "version": "3.7.9"
  }
 },
 "nbformat": 4,
 "nbformat_minor": 4
}
