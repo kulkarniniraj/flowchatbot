{
 "cells": [
  {
   "cell_type": "code",
   "execution_count": 3,
   "metadata": {},
   "outputs": [
    {
     "name": "stdout",
     "output_type": "stream",
     "text": [
      "The autoreload extension is already loaded. To reload it, use:\n",
      "  %reload_ext autoreload\n"
     ]
    }
   ],
   "source": [
    "%load_ext autoreload\n",
    "%autoreload 2"
   ]
  },
  {
   "cell_type": "code",
   "execution_count": 15,
   "metadata": {},
   "outputs": [],
   "source": [
    "from flowchatbot import *\n",
    "import flowchatbot"
   ]
  },
  {
   "cell_type": "code",
   "execution_count": 16,
   "metadata": {},
   "outputs": [],
   "source": [
    "def test_fn(data):\n",
    "    print('splitter decider', data, data['s4']['data'])\n",
    "    if tryint(data['s4']['data']) < 10000:\n",
    "        return 0\n",
    "    return 1\n",
    "\n",
    "def infodecider(data):\n",
    "#     print(f'decider {data}')\n",
    "    val = get_chained_data(data, 'ss1', 'c2', 's3', 'data')\n",
    "    if (val is not None) and (val != ''):\n",
    "        return 0\n",
    "    return 1\n",
    "def send_otp(data):\n",
    "    print(f'mobile data {data}')"
   ]
  },
  {
   "cell_type": "code",
   "execution_count": 17,
   "metadata": {},
   "outputs": [
    {
     "data": {
      "text/plain": [
       "True"
      ]
     },
     "execution_count": 17,
     "metadata": {},
     "output_type": "execute_result"
    }
   ],
   "source": [
    "bot = TextAdapter(\n",
    "    Composite(\n",
    "        'c1',\n",
    "        Segment('s0', '', 'welcome to The Imperial Lubricants'),\n",
    "        Segment('s1', 'please register your mobile no.', 'Thank you', \n",
    "                on_answer=send_otp),\n",
    "        Segment('s2', 'please enter OTP sent to your mobile no.', 'Thank you'),\n",
    "        MultiChoiceSegment('s3', 'please choose option no.', [ \n",
    "            'to purchase / order oil',\n",
    "            'for enquiry of product',\n",
    "            'for complaints',\n",
    "            'for cash back',\n",
    "            'for dealership', \n",
    "            'other'], 'thank you')))\n",
    "bot.r.flushall()"
   ]
  },
  {
   "cell_type": "code",
   "execution_count": 18,
   "metadata": {
    "scrolled": true
   },
   "outputs": [
    {
     "name": "stdout",
     "output_type": "stream",
     "text": [
      "composite answer current s0 data {'pos': 's0'}\n",
      "composite question current s1 data {'pos': 's1', 's0': {'data': 'hi'}}\n",
      "adapter data {'pos': 's1', 's0': {'data': 'hi'}, 's1': {}}\n",
      "welcome to The Imperial Lubricants\n",
      "please register your mobile no.\n"
     ]
    }
   ],
   "source": [
    "print(bot.respond('hi', 0))"
   ]
  },
  {
   "cell_type": "code",
   "execution_count": 19,
   "metadata": {},
   "outputs": [
    {
     "name": "stdout",
     "output_type": "stream",
     "text": [
      "composite answer current s1 data {'pos': 's1', 's0': {'data': 'hi'}, 's1': {}}\n",
      "mobile data {'data': '1234'}\n",
      "composite question current s2 data {'pos': 's2', 's0': {'data': 'hi'}, 's1': {'data': '1234'}}\n",
      "adapter data {'pos': 's2', 's0': {'data': 'hi'}, 's1': {'data': '1234'}, 's2': {}}\n",
      "Thank you\n",
      "please enter OTP sent to your mobile no.\n"
     ]
    }
   ],
   "source": [
    "print(bot.respond('1234', 0))"
   ]
  },
  {
   "cell_type": "code",
   "execution_count": 9,
   "metadata": {},
   "outputs": [
    {
     "name": "stdout",
     "output_type": "stream",
     "text": [
      "composite answer current s2 data {'pos': 's2', 's0': {'data': 'hi'}, 's1': {'data': '1234'}, 's2': {}}\n",
      "composite question current s3 data {'pos': 's3', 's0': {'data': 'hi'}, 's1': {'data': '1234'}, 's2': {'data': '1234'}}\n",
      "adapter data {'pos': 's3', 's0': {'data': 'hi'}, 's1': {'data': '1234'}, 's2': {'data': '1234'}, 's3': {}}\n",
      "Thank you\n",
      "please choose option no.\n",
      "1. to purchase / order oil\n",
      "2. for enquiry of product\n",
      "3. for complaints\n",
      "4. for cash back\n",
      "5. for dealership\n",
      "6. other\n"
     ]
    }
   ],
   "source": [
    "print(bot.respond('1234', 0))"
   ]
  },
  {
   "cell_type": "code",
   "execution_count": 10,
   "metadata": {},
   "outputs": [
    {
     "name": "stdout",
     "output_type": "stream",
     "text": [
      "composite answer current s3 data {'pos': 's3', 's0': {'data': 'hi'}, 's1': {'data': '1234'}, 's2': {'data': '1234'}, 's3': {}}\n",
      "composite question current s3 data {'pos': 's3', 's0': {'data': 'hi'}, 's1': {'data': '1234'}, 's2': {'data': '1234'}, 's3': {}}\n",
      "adapter data {'pos': 's3', 's0': {'data': 'hi'}, 's1': {'data': '1234'}, 's2': {'data': '1234'}, 's3': {}}\n",
      "Please enter one of 1..6 as answer\n",
      "please choose option no.\n",
      "1. to purchase / order oil\n",
      "2. for enquiry of product\n",
      "3. for complaints\n",
      "4. for cash back\n",
      "5. for dealership\n",
      "6. other\n"
     ]
    }
   ],
   "source": [
    "print(bot.respond('8', 0))"
   ]
  },
  {
   "cell_type": "code",
   "execution_count": 11,
   "metadata": {},
   "outputs": [
    {
     "name": "stdout",
     "output_type": "stream",
     "text": [
      "composite answer current s3 data {'pos': 's3', 's0': {'data': 'hi'}, 's1': {'data': '1234'}, 's2': {'data': '1234'}, 's3': {}}\n",
      "composite question current s0 data {'s0': {'data': 'hi'}, 's1': {'data': '1234'}, 's2': {'data': '1234'}, 's3': {'data': (1, 'for enquiry of product')}, 'pos': 's0'}\n",
      "adapter data {'s0': {'data': 'hi'}, 's1': {'data': '1234'}, 's2': {'data': '1234'}, 's3': {'data': (1, 'for enquiry of product')}, 'pos': 's0'}\n",
      "thank you\n",
      "\n"
     ]
    }
   ],
   "source": [
    "print(bot.respond('2', 0))"
   ]
  },
  {
   "cell_type": "code",
   "execution_count": null,
   "metadata": {},
   "outputs": [],
   "source": []
  },
  {
   "cell_type": "code",
   "execution_count": null,
   "metadata": {},
   "outputs": [],
   "source": []
  },
  {
   "cell_type": "code",
   "execution_count": null,
   "metadata": {},
   "outputs": [],
   "source": [
    "        SkipSplitter('ss1', \n",
    "                    Composite('c2', \n",
    "                        Segment('s1', 'your name', 'got it'),\n",
    "                        ValidatedSegment('s2', 'your mobile', 'got it', '10 digit mobile',\n",
    "                                    valid_fn=lambda x: re.match('(\\+91)?\\d{10}$', x) is not None),\n",
    "                        ValidatedSegment('s3', 'your email', 'got it', 'email in format abc@qwe.zxc',\n",
    "                                    valid_fn=lambda x: re.match('[a-zA-Z0-9._]+@[a-zA-Z0-9_]+\\.[a-zA-Z0-9._]+', \n",
    "                                                                x) is not None)\n",
    "                    ),\n",
    "                    decider_fn= infodecider),\n",
    "        Segment('s4', 'your income', 'ok'),\n",
    "        Splitter('s5', \n",
    "                Segment('s51', 'Do you have bike?', 'ok'),\n",
    "                Segment('s52', 'Do you have car?', 'ok'),\n",
    "                decider_fn=test_fn)\n",
    "    )\n",
    ")\n",
    "bot.r.flushall()\n",
    "\n",
    "bot.respond('hi', 3)"
   ]
  },
  {
   "cell_type": "code",
   "execution_count": 3,
   "metadata": {},
   "outputs": [
    {
     "name": "stdout",
     "output_type": "stream",
     "text": [
      "asd\n"
     ]
    }
   ],
   "source": [
    "print('asd')"
   ]
  },
  {
   "cell_type": "code",
   "execution_count": 12,
   "metadata": {},
   "outputs": [
    {
     "data": {
      "text/plain": [
       "['__builtins__',\n",
       " '__cached__',\n",
       " '__doc__',\n",
       " '__file__',\n",
       " '__loader__',\n",
       " '__name__',\n",
       " '__package__',\n",
       " '__path__',\n",
       " '__spec__',\n",
       " '__version__']"
      ]
     },
     "execution_count": 12,
     "metadata": {},
     "output_type": "execute_result"
    }
   ],
   "source": [
    "dir(flowchatbot)"
   ]
  },
  {
   "cell_type": "code",
   "execution_count": 2,
   "metadata": {},
   "outputs": [
    {
     "data": {
      "text/plain": [
       "['CHAT_RET',\n",
       " 'Composite',\n",
       " 'ComputeSegment',\n",
       " 'MultiChoiceSegment',\n",
       " 'Pipe',\n",
       " 'Segment',\n",
       " 'SkipSplitter',\n",
       " 'Splitter',\n",
       " 'TextAdapter',\n",
       " 'ValidatedSegment',\n",
       " '__builtins__',\n",
       " '__cached__',\n",
       " '__doc__',\n",
       " '__file__',\n",
       " '__loader__',\n",
       " '__name__',\n",
       " '__package__',\n",
       " '__path__',\n",
       " '__spec__',\n",
       " '__version__',\n",
       " 'flowchatbot',\n",
       " 'get_chained_data',\n",
       " 'set_chained_data',\n",
       " 'tryint']"
      ]
     },
     "execution_count": 2,
     "metadata": {},
     "output_type": "execute_result"
    }
   ],
   "source": []
  },
  {
   "cell_type": "code",
   "execution_count": null,
   "metadata": {},
   "outputs": [],
   "source": []
  }
 ],
 "metadata": {
  "kernelspec": {
   "display_name": "Python 3",
   "language": "python",
   "name": "python3"
  },
  "language_info": {
   "codemirror_mode": {
    "name": "ipython",
    "version": 3
   },
   "file_extension": ".py",
   "mimetype": "text/x-python",
   "name": "python",
   "nbconvert_exporter": "python",
   "pygments_lexer": "ipython3",
   "version": "3.7.9"
  }
 },
 "nbformat": 4,
 "nbformat_minor": 4
}
