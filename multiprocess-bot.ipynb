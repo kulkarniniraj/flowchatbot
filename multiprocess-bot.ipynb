{
 "cells": [
  {
   "cell_type": "code",
   "execution_count": 58,
   "metadata": {},
   "outputs": [],
   "source": [
    "#default_exp flowchatbot"
   ]
  },
  {
   "cell_type": "markdown",
   "metadata": {},
   "source": [
    "# Flow Chatbot library API\n",
    "\n",
    "> A chatbot library to build bots like [flowchart](https://en.wikipedia.org/wiki/Flowchart)"
   ]
  },
  {
   "cell_type": "code",
   "execution_count": 1,
   "metadata": {},
   "outputs": [],
   "source": [
    "# export\n",
    "import redis\n",
    "import enum\n",
    "import json\n",
    "import re"
   ]
  },
  {
   "cell_type": "code",
   "execution_count": 2,
   "metadata": {},
   "outputs": [],
   "source": [
    "#hide\n",
    "from nbdev.showdoc import *"
   ]
  },
  {
   "cell_type": "code",
   "execution_count": 3,
   "metadata": {
    "code_folding": [
     1
    ]
   },
   "outputs": [],
   "source": [
    "#export\n",
    "def debug_print(*args):\n",
    "    if ('DEBUG' in globals()) and (DEBUG == 1):\n",
    "        print(f'DEBUG: {args}')\n",
    "    else:\n",
    "        pass"
   ]
  },
  {
   "cell_type": "code",
   "execution_count": 4,
   "metadata": {},
   "outputs": [],
   "source": [
    "# hide\n",
    "# DEBUG = 1\n",
    "debug_print(\"test\")"
   ]
  },
  {
   "cell_type": "markdown",
   "metadata": {
    "heading_collapsed": true
   },
   "source": [
    "## Data Utils"
   ]
  },
  {
   "cell_type": "code",
   "execution_count": 5,
   "metadata": {
    "code_folding": [],
    "hidden": true
   },
   "outputs": [],
   "source": [
    "# export\n",
    "def get_chained_data(data, *keys):\n",
    "    \"\"\"\n",
    "    Gets data from dict hierarchy with given keys \n",
    "    (none if any link is missing)\n",
    "    \"\"\"\n",
    "    d = data\n",
    "    for key in keys:\n",
    "        if key not in d:\n",
    "            return None\n",
    "        d = d[key]\n",
    "    return d\n",
    "\n",
    "def set_chained_data(data, *keys, val=0):\n",
    "    \"\"\"\n",
    "    Sets data to dict hierarchy and creating links where necessary\n",
    "    \"\"\"\n",
    "    d = data\n",
    "    for key in keys[:-1]:\n",
    "        if key not in d:\n",
    "            d[key] = {}\n",
    "        d = d[key]\n",
    "    d[keys[-1]] = val\n"
   ]
  },
  {
   "cell_type": "code",
   "execution_count": 6,
   "metadata": {
    "code_folding": [],
    "hidden": true
   },
   "outputs": [],
   "source": [
    "# export\n",
    "def tryint(x):\n",
    "    \"\"\"\n",
    "    Check if input can be parsed as int, return -1 otherwise\n",
    "    \"\"\"\n",
    "    try:\n",
    "        return int(x)\n",
    "    except:\n",
    "        return -1\n",
    "    "
   ]
  },
  {
   "cell_type": "markdown",
   "metadata": {},
   "source": [
    "## Chatbot classes"
   ]
  },
  {
   "cell_type": "code",
   "execution_count": 7,
   "metadata": {
    "code_folding": [
     1
    ]
   },
   "outputs": [],
   "source": [
    "# export\n",
    "class CHAT_RET(enum.Enum):\n",
    "    \"\"\"\n",
    "    Movement values from chat segment.\n",
    "    If return stay, bot should reask this question\n",
    "    If next, bot should move to next in link\n",
    "    \"\"\"\n",
    "    STAY = 0\n",
    "    NEXT = 1"
   ]
  },
  {
   "cell_type": "code",
   "execution_count": 8,
   "metadata": {
    "code_folding": [
     1
    ]
   },
   "outputs": [],
   "source": [
    "# export\n",
    "class Pipe:\n",
    "    \"\"\"\n",
    "    Base class for all flow element classes\n",
    "    Sets up key, None as next link and callbacks for question and answer call\n",
    "    \"\"\"\n",
    "    def __init__(self, on_question=None, on_answer=None):\n",
    "        self.key = ''\n",
    "        self.next = None\n",
    "        self.on_question = on_question\n",
    "        self.on_answer = on_answer\n",
    "    \n",
    "    def __repr__(self):\n",
    "        return f'{type(self)}: {self.key}'\n",
    "    \n",
    "    def question(self):\n",
    "        pass\n",
    "    \n",
    "    def answer(self, resp):\n",
    "        pass"
   ]
  },
  {
   "cell_type": "code",
   "execution_count": 9,
   "metadata": {
    "code_folding": [
     1
    ]
   },
   "outputs": [],
   "source": [
    "# export\n",
    "class Segment(Pipe):\n",
    "    \"\"\"\n",
    "    Basic segment unit, asks one question and gives one answer\n",
    "    Stores response as it is in 'data' field\n",
    "    \"\"\"\n",
    "    def __init__(self, key, q, a, **kwargs):\n",
    "        super().__init__(**kwargs)\n",
    "        self.q = q\n",
    "        self.a = a\n",
    "        self.key = key        \n",
    "        \n",
    "    def question(self, data):\n",
    "        if self.on_question:\n",
    "            self.on_question(data)\n",
    "        return {'txt': self.q}\n",
    "    \n",
    "    def answer(self, resp, data):\n",
    "        data['data'] = resp\n",
    "        if self.on_answer:\n",
    "            self.on_answer(data)\n",
    "        return CHAT_RET.NEXT, {'txt': self.a}\n",
    "    "
   ]
  },
  {
   "cell_type": "code",
   "execution_count": 10,
   "metadata": {
    "code_folding": [
     1
    ]
   },
   "outputs": [],
   "source": [
    "# export\n",
    "class ValidatedSegment(Segment):\n",
    "    \"\"\"\n",
    "    Segment element with data validation facility\n",
    "    Constructor takes validation function as arg.\n",
    "    \"\"\"\n",
    "    def __init__(self, key, q, a, errmsg, valid_fn):\n",
    "        \"\"\"\n",
    "        valid_fn is called with user response. If it returns true, data \n",
    "        is stored and bot moves forward, otherwise bot stays and shows error message\n",
    "        \"\"\"\n",
    "        super().__init__(key, q, a)\n",
    "        self.err = errmsg\n",
    "        self.valid_fn = valid_fn\n",
    "         \n",
    "    def answer(self, resp, data):\n",
    "        if self.valid_fn(resp):\n",
    "            return super().answer(resp, data)\n",
    "        data['data'] = ''\n",
    "        return CHAT_RET.STAY, {'txt': self.err}\n",
    "  "
   ]
  },
  {
   "cell_type": "code",
   "execution_count": 11,
   "metadata": {
    "code_folding": []
   },
   "outputs": [],
   "source": [
    "# export\n",
    "class MultiChoiceSegment(Segment):\n",
    "    \"\"\"\n",
    "    Element for asking question with multi choice answers.\n",
    "    Both response number and corresponding answer is stored in data\n",
    "    \"\"\"\n",
    "    def __init__(self, key, q, resp_lst, ans, **kwargs):\n",
    "        \"\"\"\n",
    "        resp_lst is list of choices to be given. Numbered from 1 to n\n",
    "        \"\"\"\n",
    "        super().__init__(key, q, ans, **kwargs)\n",
    "        self.resp_lst = resp_lst\n",
    "        \n",
    "    def question(self, data):\n",
    "#         return {'txt': self.q + '\\n' + '\\n'.join([f'{i+1}. {q}' for (i,q) in enumerate(self.resp_lst)])}\n",
    "        return {'txt': self.q, 'choices': self.resp_lst}\n",
    "    \n",
    "    def answer(self, resp, data):\n",
    "        if 0 < tryint(resp) <= len(self.resp_lst):\n",
    "            data['data'] = (tryint(resp) - 1, self.resp_lst[tryint(resp) - 1])\n",
    "            return CHAT_RET.NEXT, {'txt': self.a}\n",
    "        return CHAT_RET.STAY, {'txt': f'Please enter one of 1..{len(self.resp_lst)} as answer'}\n",
    "    "
   ]
  },
  {
   "cell_type": "code",
   "execution_count": 12,
   "metadata": {
    "code_folding": [
     1
    ]
   },
   "outputs": [],
   "source": [
    "# export\n",
    "class ComputeSegment(Segment):\n",
    "    \"\"\"\n",
    "    Segment to do computation. Data of parent elememnt is passed to answer function\n",
    "    Should be inherited with overriden answer function to do actual computations\n",
    "    \"\"\"\n",
    "    def answer(self, resp, data):\n",
    "        \"\"\"\n",
    "        data of parent is passed\n",
    "        \"\"\"\n",
    "        return super().answer(resp, data)    "
   ]
  },
  {
   "cell_type": "code",
   "execution_count": 13,
   "metadata": {
    "code_folding": [
     1,
     65
    ]
   },
   "outputs": [],
   "source": [
    "# export\n",
    "class Composite(Pipe):\n",
    "    \"\"\"\n",
    "    Composite element, can have any other element including composite as children.\n",
    "    All children form linked list and traversed sequentially while this element \n",
    "    will return STAY\n",
    "    When end of linked list is reached, element returns NEXT\n",
    "    \"\"\"\n",
    "    def __init__(self, key, *args):\n",
    "        \"\"\"\n",
    "        args correspond to all children elements\n",
    "        \"\"\"\n",
    "        super().__init__()\n",
    "        for i in range(len(args) - 1):\n",
    "            args[i].next = args[i+1]\n",
    "            \n",
    "        self.args = args\n",
    "        self.key = key\n",
    "        \n",
    "        self.nodes = {}\n",
    "        for a in args:\n",
    "            self.nodes[a.key] = a\n",
    "    \n",
    "    def getpos(self, data):\n",
    "        pos = get_chained_data(data, 'pos')\n",
    "        if pos is None:\n",
    "            pos = self.args[0].key\n",
    "            set_chained_data(data, 'pos', val=pos)\n",
    "            \n",
    "        return self.nodes[pos]\n",
    "        \n",
    "    def setpos(self, data, pos):\n",
    "        set_chained_data(data, 'pos', val=pos.key)\n",
    "        \n",
    "    def getdata(self, data, key):\n",
    "        val = get_chained_data(data, key)\n",
    "        if val is None:\n",
    "            val = {}\n",
    "            set_chained_data(data, key, val=val)\n",
    "        return val\n",
    "        \n",
    "    def question(self, data):\n",
    "        cur = self.getpos(data)\n",
    "        debug_print(f'composite question current {cur.key} data {data}')\n",
    "        curdata = self.getdata(data, cur.key)\n",
    "            \n",
    "        if isinstance(cur, Splitter):\n",
    "            q = cur.question(data)\n",
    "        else:\n",
    "            q = cur.question(curdata)\n",
    "            \n",
    "        return q\n",
    "    \n",
    "    def move(self, cur, cmd, data):\n",
    "        if cmd == CHAT_RET.NEXT:\n",
    "            nxt = cur.next\n",
    "            if nxt == None: # self.args[-1]:\n",
    "                data.pop('pos')\n",
    "                return CHAT_RET.NEXT\n",
    "        else:\n",
    "            nxt = cur\n",
    "            \n",
    "        self.setpos(data, nxt)\n",
    "        return CHAT_RET.STAY\n",
    "    \n",
    "    def answer(self, resp, data):\n",
    "        cur = self.getpos(data)\n",
    "        debug_print(f'composite answer current {cur.key} data {data}')\n",
    "        curdata = self.getdata(data, cur.key)\n",
    "       \n",
    "        if isinstance(cur, SkipSplitter):\n",
    "            if cur.decider_fn(data) == 1:\n",
    "                mov, ans = cur.answer(resp, data)\n",
    "                return self.move(cur, mov, data), ans    \n",
    "            else:\n",
    "                cur = cur.next\n",
    "                self.setpos(data, cur)\n",
    "                curdata = self.getdata(data, cur.key)\n",
    "                \n",
    "        if isinstance(cur, Splitter):\n",
    "            mov, ans = cur.answer(resp, data)\n",
    "        elif isinstance(cur, ComputeSegment):\n",
    "            mov, ans = cur.answer(resp, data)\n",
    "        else:\n",
    "            mov, ans = cur.answer(resp, curdata)        \n",
    "        return self.move(cur, mov, data), ans    \n"
   ]
  },
  {
   "cell_type": "code",
   "execution_count": 14,
   "metadata": {
    "code_folding": [
     1
    ]
   },
   "outputs": [],
   "source": [
    "#export\n",
    "class LoopComposite(Composite):\n",
    "    \"\"\"\n",
    "    Composite element with ability to start from begin once end is reached.\n",
    "    Should have a Skip element before to break loop\n",
    "    \"\"\"\n",
    "    def move(self, cur, cmd, data):\n",
    "        if cmd == CHAT_RET.NEXT:\n",
    "            nxt = cur.next\n",
    "            if nxt == None: # self.args[-1]:\n",
    "                data.pop('pos')\n",
    "                return CHAT_RET.STAY\n",
    "        else:\n",
    "            nxt = cur\n",
    "            \n",
    "        self.setpos(data, nxt)\n",
    "        return CHAT_RET.STAY"
   ]
  },
  {
   "cell_type": "code",
   "execution_count": 30,
   "metadata": {
    "code_folding": [
     1
    ]
   },
   "outputs": [],
   "source": [
    "# export\n",
    "class TextAdapter(Pipe):\n",
    "    \"\"\"\n",
    "    Text based adapter to invoke root element on user reponse.\n",
    "    A similar adapter is needed for HTML or other bots\n",
    "    \"\"\"\n",
    "    def __init__(self, root):\n",
    "        super().__init__()\n",
    "        self.root = root\n",
    "        self.r = redis.Redis()\n",
    "    \n",
    "    def get_data(self, session):\n",
    "        if self.r.exists(session):\n",
    "            data = json.loads(self.r.get(session))\n",
    "        else:\n",
    "            data = {}\n",
    "        return data\n",
    "    \n",
    "    def respond(self, inp, session):\n",
    "        data = self.get_data(session)\n",
    "        n, d1 = self.root.answer(inp, data)\n",
    "#         if n == CHAT_RET.NEXT:\n",
    "#             data.pop('pos')\n",
    "        d2 = self.root.question(data)\n",
    "        debug_print(f'adapter data {data}')\n",
    "        self.r.set(session, json.dumps(data))\n",
    "        d2_str = d2['txt']\n",
    "        if 'choices' in d2:\n",
    "            d2_str += '\\n' + '\\n'.join([f'{i+1}. {q}' for \n",
    "                                        (i,q) in enumerate(d2['choices'])])\n",
    "        return f\"{d1['txt']}\\n{d2_str}\""
   ]
  },
  {
   "cell_type": "markdown",
   "metadata": {},
   "source": [
    "## Test segment and composite"
   ]
  },
  {
   "cell_type": "markdown",
   "metadata": {
    "heading_collapsed": true
   },
   "source": [
    "### Test basic segments and composite"
   ]
  },
  {
   "cell_type": "code",
   "execution_count": 29,
   "metadata": {
    "hidden": true
   },
   "outputs": [
    {
     "data": {
      "text/plain": [
       "True"
      ]
     },
     "execution_count": 29,
     "metadata": {},
     "output_type": "execute_result"
    }
   ],
   "source": [
    "bot = TextAdapter(\n",
    "    Composite(\n",
    "        'c1',\n",
    "        Segment('s0', '', 'welcome'),\n",
    "         Composite('c2', \n",
    "            Segment('s1', 'your name', 'got it'),\n",
    "            ValidatedSegment('s2', 'your phone number', 'got it', \n",
    "                            'phone number should be 10 digits with optional +91 at beginning',\n",
    "                            lambda x: re.match('(\\+91)?\\d{10}$', x) is not None),        \n",
    "            Segment('s3', 'your email', 'ok')\n",
    "                  ),\n",
    "        Composite('c3', \n",
    "            Segment('s4', 'your income', 'ok')\n",
    "                 )\n",
    "        \n",
    "    )\n",
    ")\n",
    "bot.r.flushall()"
   ]
  },
  {
   "cell_type": "code",
   "execution_count": null,
   "metadata": {
    "hidden": true
   },
   "outputs": [],
   "source": [
    "bot.respond('hi', 3)"
   ]
  },
  {
   "cell_type": "code",
   "execution_count": null,
   "metadata": {
    "hidden": true
   },
   "outputs": [],
   "source": [
    "bot.respond('Niraj', 3)"
   ]
  },
  {
   "cell_type": "code",
   "execution_count": null,
   "metadata": {
    "hidden": true
   },
   "outputs": [],
   "source": [
    "bot.respond('123123', 3)"
   ]
  },
  {
   "cell_type": "code",
   "execution_count": null,
   "metadata": {
    "hidden": true
   },
   "outputs": [],
   "source": [
    "bot.respond('1231234567', 3)"
   ]
  },
  {
   "cell_type": "code",
   "execution_count": null,
   "metadata": {
    "hidden": true
   },
   "outputs": [],
   "source": [
    "bot.respond('asd@qwe', 3)"
   ]
  },
  {
   "cell_type": "code",
   "execution_count": null,
   "metadata": {
    "hidden": true
   },
   "outputs": [],
   "source": [
    "bot.respond('30000', 3)"
   ]
  },
  {
   "cell_type": "code",
   "execution_count": null,
   "metadata": {
    "hidden": true
   },
   "outputs": [],
   "source": [
    "bot.respond('hi', 3)"
   ]
  },
  {
   "cell_type": "code",
   "execution_count": null,
   "metadata": {
    "hidden": true
   },
   "outputs": [],
   "source": [
    "bot.respond('Niraj', 3)"
   ]
  },
  {
   "cell_type": "code",
   "execution_count": null,
   "metadata": {
    "hidden": true
   },
   "outputs": [],
   "source": [
    "bot.respond('123123', 3)"
   ]
  },
  {
   "cell_type": "code",
   "execution_count": null,
   "metadata": {
    "hidden": true
   },
   "outputs": [],
   "source": [
    "bot.respond('1231234567', 3)"
   ]
  },
  {
   "cell_type": "code",
   "execution_count": null,
   "metadata": {
    "hidden": true
   },
   "outputs": [],
   "source": [
    "bot.respond('asd@qwe', 3)"
   ]
  },
  {
   "cell_type": "code",
   "execution_count": null,
   "metadata": {
    "hidden": true
   },
   "outputs": [],
   "source": [
    "bot.respond('30000', 3)"
   ]
  },
  {
   "cell_type": "markdown",
   "metadata": {
    "heading_collapsed": true
   },
   "source": [
    "### Test multi choice segment"
   ]
  },
  {
   "cell_type": "code",
   "execution_count": 31,
   "metadata": {
    "hidden": true
   },
   "outputs": [
    {
     "data": {
      "text/plain": [
       "True"
      ]
     },
     "execution_count": 31,
     "metadata": {},
     "output_type": "execute_result"
    }
   ],
   "source": [
    "bot = TextAdapter(\n",
    "    Composite(\n",
    "        'c1',\n",
    "        Segment('s0', '', 'welcome'),\n",
    "        Segment('s1', 'your name', 'got it'),\n",
    "        MultiChoiceSegment('s2', 'Your income bracket?', \n",
    "                          ['0 - 10k', '10k-1L', '1L-10L'], 'got it')\n",
    "    )\n",
    ")\n",
    "bot.r.flushall()"
   ]
  },
  {
   "cell_type": "code",
   "execution_count": 32,
   "metadata": {
    "hidden": true
   },
   "outputs": [
    {
     "name": "stdout",
     "output_type": "stream",
     "text": [
      "welcome\n",
      "your name\n"
     ]
    }
   ],
   "source": [
    "print(bot.respond('hi', 0))"
   ]
  },
  {
   "cell_type": "code",
   "execution_count": 33,
   "metadata": {
    "hidden": true
   },
   "outputs": [
    {
     "name": "stdout",
     "output_type": "stream",
     "text": [
      "got it\n",
      "Your income bracket?\n",
      "1. 0 - 10k\n",
      "2. 10k-1L\n",
      "3. 1L-10L\n"
     ]
    }
   ],
   "source": [
    "print(bot.respond('test123', 0))"
   ]
  },
  {
   "cell_type": "code",
   "execution_count": 34,
   "metadata": {
    "hidden": true
   },
   "outputs": [
    {
     "name": "stdout",
     "output_type": "stream",
     "text": [
      "got it\n",
      "\n"
     ]
    }
   ],
   "source": [
    "print(bot.respond('3', 0))"
   ]
  },
  {
   "cell_type": "code",
   "execution_count": 35,
   "metadata": {
    "hidden": true
   },
   "outputs": [
    {
     "data": {
      "text/plain": [
       "{'s0': {'data': 'hi'},\n",
       " 's1': {'data': 'test123'},\n",
       " 's2': {'data': [2, '1L-10L']},\n",
       " 'pos': 's0'}"
      ]
     },
     "execution_count": 35,
     "metadata": {},
     "output_type": "execute_result"
    }
   ],
   "source": [
    "bot.get_data(0)"
   ]
  },
  {
   "cell_type": "markdown",
   "metadata": {
    "heading_collapsed": true
   },
   "source": [
    "## Splitters"
   ]
  },
  {
   "cell_type": "code",
   "execution_count": 20,
   "metadata": {
    "code_folding": [
     1
    ],
    "hidden": true
   },
   "outputs": [],
   "source": [
    "# export\n",
    "class Splitter(Pipe):\n",
    "    \"\"\"\n",
    "    Splitter element to branch flow based on some condition. \n",
    "    \"\"\"\n",
    "    def __init__(self, key, *branches, decider_fn=lambda _: 0, default = 0):\n",
    "        \"\"\"\n",
    "        branches are all possible branch elements (could be composites)\n",
    "        decider_fn is passes data of parent and should return branch index \n",
    "        (between 0 to n-1)\n",
    "        default index is used if invalid index is returned by decider_fn\n",
    "        \"\"\"\n",
    "        super().__init__()\n",
    "        self.key = key\n",
    "        self.branches = branches\n",
    "        self.nodes = {}\n",
    "        for a in branches:\n",
    "            self.nodes[a.key] = a\n",
    "            \n",
    "        self.default = default\n",
    "        self.decider_fn = decider_fn\n",
    "        \n",
    "    def decide(self, data):\n",
    "        \"\"\"\n",
    "        Based on parent level data decide branch and return branch key\n",
    "        \"\"\"\n",
    "        val = self.decider_fn(data)\n",
    "        debug_print(f'decider {self.key} {val}')\n",
    "        if val >= len(self.branches):\n",
    "            val = self.default\n",
    "        self.branches[val].next = self.next\n",
    "        return self.branches[val].key\n",
    "    \n",
    "    def question(self, data):\n",
    "        \"\"\"\n",
    "        Parent data for splitter\n",
    "        \"\"\"\n",
    "        debug_print(f'splitter question data {data}')\n",
    "        pos = self.decide(data)\n",
    "        set_chained_data(data, self.key, 'pos', val = pos)\n",
    "        debug_print(f'splitter question data after pos set {self.key} {pos} {data}')\n",
    "        cur = self.nodes[pos]\n",
    "        curdata = get_chained_data(data, self.key, cur.key)\n",
    "        if curdata is None:\n",
    "            curdata = {}\n",
    "            set_chained_data(data, self.key, cur.key, val=curdata)\n",
    "        return cur.question(curdata)\n",
    "    \n",
    "    def answer(self, resp, data):\n",
    "        debug_print(f'splitter answer data {data}')\n",
    "        pos = self.decide(data)\n",
    "        set_chained_data(data, self.key, 'pos', val = pos)\n",
    "    \n",
    "        cur = self.nodes[pos]\n",
    "        \n",
    "        curdata = get_chained_data(data, self.key, cur.key)\n",
    "        if curdata is None:\n",
    "            curdata = {}\n",
    "            set_chained_data(data, self.key, cur.key, val=curdata)\n",
    "        \n",
    "        mov, ans = cur.answer(resp, curdata)\n",
    "        \n",
    "        if mov == CHAT_RET.NEXT:\n",
    "            return CHAT_RET.NEXT, ans\n",
    "            \n",
    "        return CHAT_RET.STAY, ans    \n"
   ]
  },
  {
   "cell_type": "code",
   "execution_count": 21,
   "metadata": {
    "code_folding": [
     1
    ],
    "hidden": true
   },
   "outputs": [],
   "source": [
    "# export\n",
    "class SkipSplitter(Splitter):\n",
    "    \"\"\"\n",
    "    A branch is taken on condition otherwise skips the branch \n",
    "    (name taken from skipconnection in resnets)\n",
    "    \"\"\"\n",
    "    def __init__(self, key, branch, decider_fn=lambda _: 0, default = 0):\n",
    "        \"\"\"\n",
    "        Single branch should be passed\n",
    "        if decide_fn returns 1, branch will be taken otherwise skipped\n",
    "        \"\"\"\n",
    "        super().__init__(key, branch, decider_fn=decider_fn, default=default)\n",
    "    \n",
    "    def decide(self, data):\n",
    "        \"\"\"\n",
    "        Based on parent level data decide if branch to be taken\n",
    "        \"\"\"\n",
    "        val = self.decider_fn(data)\n",
    "        return val\n",
    "    \n",
    "    def getpos(self, data):\n",
    "        if (self.key in data) and  ('pos' in data[self.key]):\n",
    "            return self.nodes[data[self.key]['pos']]\n",
    "        \n",
    "        data[self.key]['pos'] = self.branches[0].key\n",
    "        return self.branches[0]\n",
    "    \n",
    "    def setpos(self, data, pos):\n",
    "        data['pos'] = pos.key\n",
    "\n",
    "    def getdata(self, data, key):\n",
    "        if self.key in data:\n",
    "            if key in data[self.key]:\n",
    "                return data[self.key][key]\n",
    "            else:\n",
    "                data[self.key][key] = {}\n",
    "                return data[self.key][key]\n",
    "        data[self.key] = {}\n",
    "        data[self.key][key] = {}\n",
    "        return data[self.key][key]\n",
    "    \n",
    "    def question(self, data):\n",
    "        \"\"\"\n",
    "        Parent data for splitter\n",
    "        \"\"\"\n",
    "        debug_print(f'skip question data {data}')\n",
    "        if self.decide(data) == 1:\n",
    "            # take branch\n",
    "            cur = self.getpos(data)\n",
    "            curdata = self.getdata(data, cur.key)\n",
    "            return cur.question(curdata)\n",
    "        else:\n",
    "            # skip branch\n",
    "            data['pos'] = self.next.key\n",
    "            return self.next.question({})\n",
    "     \n",
    "    def answer(self, resp, data):\n",
    "        debug_print(f'skip answer data {data}')\n",
    "        cur = self.getpos(data)\n",
    "        curdata = self.getdata(data, cur.key)\n",
    "            \n",
    "        mov, ans = cur.answer(resp, curdata)\n",
    "        \n",
    "        if mov == CHAT_RET.NEXT:\n",
    "            return CHAT_RET.NEXT, ans\n",
    "            \n",
    "        return CHAT_RET.STAY, ans    \n"
   ]
  },
  {
   "cell_type": "code",
   "execution_count": null,
   "metadata": {
    "hidden": true
   },
   "outputs": [],
   "source": []
  },
  {
   "cell_type": "markdown",
   "metadata": {
    "heading_collapsed": true
   },
   "source": [
    "## Test splitters"
   ]
  },
  {
   "cell_type": "code",
   "execution_count": null,
   "metadata": {
    "hidden": true
   },
   "outputs": [],
   "source": [
    "bot.r.keys('*')"
   ]
  },
  {
   "cell_type": "code",
   "execution_count": 32,
   "metadata": {
    "hidden": true
   },
   "outputs": [],
   "source": [
    "def test_fn(data):\n",
    "    debug_print('splitter decider', data, data['s4']['data'])\n",
    "    if tryint(data['s4']['data']) < 10000:\n",
    "        return 0\n",
    "    return 1"
   ]
  },
  {
   "cell_type": "code",
   "execution_count": 33,
   "metadata": {
    "hidden": true
   },
   "outputs": [],
   "source": [
    "def infodecider(data):\n",
    "#     debug_print(f'decider {data}')\n",
    "    val = get_chained_data(data, 'ss1', 'c2', 's3', 'data')\n",
    "    if (val is not None) and (val != ''):\n",
    "        return 0\n",
    "    return 1"
   ]
  },
  {
   "cell_type": "code",
   "execution_count": 47,
   "metadata": {
    "hidden": true
   },
   "outputs": [
    {
     "data": {
      "text/plain": [
       "True"
      ]
     },
     "execution_count": 47,
     "metadata": {},
     "output_type": "execute_result"
    }
   ],
   "source": [
    "bot = TextAdapter(\n",
    "    Composite(\n",
    "        'c1',\n",
    "        Segment('s0', '', 'welcome'),\n",
    "        SkipSplitter('ss1', \n",
    "                    Composite('c2', \n",
    "                        Segment('s1', 'your name', 'got it'),\n",
    "                        ValidatedSegment('s2', 'your mobile', 'got it', '10 digit mobile',\n",
    "                                    valid_fn=lambda x: re.match('(\\+91)?\\d{10}$', x) is not None),\n",
    "                        ValidatedSegment('s3', 'your email', 'got it', 'email in format abc@qwe.zxc',\n",
    "                                    valid_fn=lambda x: re.match('[a-zA-Z0-9._]+@[a-zA-Z0-9_]+\\.[a-zA-Z0-9._]+', \n",
    "                                                                x) is not None)\n",
    "                    ),\n",
    "                    decider_fn= infodecider),\n",
    "        Segment('s4', 'your income', 'ok'),\n",
    "        Splitter('s5', \n",
    "                Segment('s51', 'Do you have bike?', 'ok'),\n",
    "                Segment('s52', 'Do you have car?', 'ok'),\n",
    "                decider_fn=test_fn)\n",
    "    )\n",
    ")\n",
    "bot.r.flushall()"
   ]
  },
  {
   "cell_type": "code",
   "execution_count": 56,
   "metadata": {
    "hidden": true
   },
   "outputs": [
    {
     "name": "stdout",
     "output_type": "stream",
     "text": [
      "composite answer current s0 data {'s0': {'data': 'hi'}, 'ss1': {'pos': 'c2', 'c2': {'s1': {'data': 'Niraj'}, 's2': {'data': '1231234567'}, 's3': {'data': 'asd@qwe.com'}}}, 's4': {'data': '11000'}, 's5': {'pos': 's52', 's52': {'data': 'No'}}, 'pos': 's0'}\n",
      "composite question current ss1 data {'s0': {'data': 'hi'}, 'ss1': {'pos': 'c2', 'c2': {'s1': {'data': 'Niraj'}, 's2': {'data': '1231234567'}, 's3': {'data': 'asd@qwe.com'}}}, 's4': {'data': '11000'}, 's5': {'pos': 's52', 's52': {'data': 'No'}}, 'pos': 'ss1'}\n",
      "skip question data {'s0': {'data': 'hi'}, 'ss1': {'pos': 'c2', 'c2': {'s1': {'data': 'Niraj'}, 's2': {'data': '1231234567'}, 's3': {'data': 'asd@qwe.com'}}}, 's4': {'data': '11000'}, 's5': {'pos': 's52', 's52': {'data': 'No'}}, 'pos': 'ss1'}\n",
      "adapter data {'s0': {'data': 'hi'}, 'ss1': {'pos': 'c2', 'c2': {'s1': {'data': 'Niraj'}, 's2': {'data': '1231234567'}, 's3': {'data': 'asd@qwe.com'}}}, 's4': {'data': '11000'}, 's5': {'pos': 's52', 's52': {'data': 'No'}}, 'pos': 's4'}\n"
     ]
    },
    {
     "data": {
      "text/plain": [
       "'welcome\\nyour income'"
      ]
     },
     "execution_count": 56,
     "metadata": {},
     "output_type": "execute_result"
    }
   ],
   "source": [
    "bot.respond('hi', 3)"
   ]
  },
  {
   "cell_type": "code",
   "execution_count": 49,
   "metadata": {
    "hidden": true
   },
   "outputs": [
    {
     "name": "stdout",
     "output_type": "stream",
     "text": [
      "composite answer current ss1 data {'pos': 'ss1', 's0': {'data': 'hi'}, 'ss1': {'pos': 'c2', 'c2': {'pos': 's1', 's1': {}}}}\n",
      "skip answer data {'pos': 'ss1', 's0': {'data': 'hi'}, 'ss1': {'pos': 'c2', 'c2': {'pos': 's1', 's1': {}}}}\n",
      "composite answer current s1 data {'pos': 's1', 's1': {}}\n",
      "composite question current ss1 data {'pos': 'ss1', 's0': {'data': 'hi'}, 'ss1': {'pos': 'c2', 'c2': {'pos': 's2', 's1': {'data': 'Niraj'}}}}\n",
      "skip question data {'pos': 'ss1', 's0': {'data': 'hi'}, 'ss1': {'pos': 'c2', 'c2': {'pos': 's2', 's1': {'data': 'Niraj'}}}}\n",
      "composite question current s2 data {'pos': 's2', 's1': {'data': 'Niraj'}}\n",
      "adapter data {'pos': 'ss1', 's0': {'data': 'hi'}, 'ss1': {'pos': 'c2', 'c2': {'pos': 's2', 's1': {'data': 'Niraj'}, 's2': {}}}}\n"
     ]
    },
    {
     "data": {
      "text/plain": [
       "'got it\\nyour mobile'"
      ]
     },
     "execution_count": 49,
     "metadata": {},
     "output_type": "execute_result"
    }
   ],
   "source": [
    "bot.respond('Niraj', 3)"
   ]
  },
  {
   "cell_type": "code",
   "execution_count": 50,
   "metadata": {
    "hidden": true
   },
   "outputs": [
    {
     "name": "stdout",
     "output_type": "stream",
     "text": [
      "composite answer current ss1 data {'pos': 'ss1', 's0': {'data': 'hi'}, 'ss1': {'pos': 'c2', 'c2': {'pos': 's2', 's1': {'data': 'Niraj'}, 's2': {}}}}\n",
      "skip answer data {'pos': 'ss1', 's0': {'data': 'hi'}, 'ss1': {'pos': 'c2', 'c2': {'pos': 's2', 's1': {'data': 'Niraj'}, 's2': {}}}}\n",
      "composite answer current s2 data {'pos': 's2', 's1': {'data': 'Niraj'}, 's2': {}}\n",
      "composite question current ss1 data {'pos': 'ss1', 's0': {'data': 'hi'}, 'ss1': {'pos': 'c2', 'c2': {'pos': 's2', 's1': {'data': 'Niraj'}, 's2': {'data': ''}}}}\n",
      "skip question data {'pos': 'ss1', 's0': {'data': 'hi'}, 'ss1': {'pos': 'c2', 'c2': {'pos': 's2', 's1': {'data': 'Niraj'}, 's2': {'data': ''}}}}\n",
      "composite question current s2 data {'pos': 's2', 's1': {'data': 'Niraj'}, 's2': {'data': ''}}\n",
      "adapter data {'pos': 'ss1', 's0': {'data': 'hi'}, 'ss1': {'pos': 'c2', 'c2': {'pos': 's2', 's1': {'data': 'Niraj'}, 's2': {'data': ''}}}}\n"
     ]
    },
    {
     "data": {
      "text/plain": [
       "'10 digit mobile\\nyour mobile'"
      ]
     },
     "execution_count": 50,
     "metadata": {},
     "output_type": "execute_result"
    }
   ],
   "source": [
    "bot.respond('123123', 3)"
   ]
  },
  {
   "cell_type": "code",
   "execution_count": 51,
   "metadata": {
    "hidden": true
   },
   "outputs": [
    {
     "name": "stdout",
     "output_type": "stream",
     "text": [
      "composite answer current ss1 data {'pos': 'ss1', 's0': {'data': 'hi'}, 'ss1': {'pos': 'c2', 'c2': {'pos': 's2', 's1': {'data': 'Niraj'}, 's2': {'data': ''}}}}\n",
      "skip answer data {'pos': 'ss1', 's0': {'data': 'hi'}, 'ss1': {'pos': 'c2', 'c2': {'pos': 's2', 's1': {'data': 'Niraj'}, 's2': {'data': ''}}}}\n",
      "composite answer current s2 data {'pos': 's2', 's1': {'data': 'Niraj'}, 's2': {'data': ''}}\n",
      "composite question current ss1 data {'pos': 'ss1', 's0': {'data': 'hi'}, 'ss1': {'pos': 'c2', 'c2': {'pos': 's3', 's1': {'data': 'Niraj'}, 's2': {'data': '1231234567'}}}}\n",
      "skip question data {'pos': 'ss1', 's0': {'data': 'hi'}, 'ss1': {'pos': 'c2', 'c2': {'pos': 's3', 's1': {'data': 'Niraj'}, 's2': {'data': '1231234567'}}}}\n",
      "composite question current s3 data {'pos': 's3', 's1': {'data': 'Niraj'}, 's2': {'data': '1231234567'}}\n",
      "adapter data {'pos': 'ss1', 's0': {'data': 'hi'}, 'ss1': {'pos': 'c2', 'c2': {'pos': 's3', 's1': {'data': 'Niraj'}, 's2': {'data': '1231234567'}, 's3': {}}}}\n"
     ]
    },
    {
     "data": {
      "text/plain": [
       "'got it\\nyour email'"
      ]
     },
     "execution_count": 51,
     "metadata": {},
     "output_type": "execute_result"
    }
   ],
   "source": [
    "bot.respond('1231234567', 3)"
   ]
  },
  {
   "cell_type": "code",
   "execution_count": 52,
   "metadata": {
    "hidden": true
   },
   "outputs": [
    {
     "name": "stdout",
     "output_type": "stream",
     "text": [
      "composite answer current ss1 data {'pos': 'ss1', 's0': {'data': 'hi'}, 'ss1': {'pos': 'c2', 'c2': {'pos': 's3', 's1': {'data': 'Niraj'}, 's2': {'data': '1231234567'}, 's3': {}}}}\n",
      "skip answer data {'pos': 'ss1', 's0': {'data': 'hi'}, 'ss1': {'pos': 'c2', 'c2': {'pos': 's3', 's1': {'data': 'Niraj'}, 's2': {'data': '1231234567'}, 's3': {}}}}\n",
      "composite answer current s3 data {'pos': 's3', 's1': {'data': 'Niraj'}, 's2': {'data': '1231234567'}, 's3': {}}\n",
      "composite question current ss1 data {'pos': 'ss1', 's0': {'data': 'hi'}, 'ss1': {'pos': 'c2', 'c2': {'pos': 's3', 's1': {'data': 'Niraj'}, 's2': {'data': '1231234567'}, 's3': {'data': ''}}}}\n",
      "skip question data {'pos': 'ss1', 's0': {'data': 'hi'}, 'ss1': {'pos': 'c2', 'c2': {'pos': 's3', 's1': {'data': 'Niraj'}, 's2': {'data': '1231234567'}, 's3': {'data': ''}}}}\n",
      "composite question current s3 data {'pos': 's3', 's1': {'data': 'Niraj'}, 's2': {'data': '1231234567'}, 's3': {'data': ''}}\n",
      "adapter data {'pos': 'ss1', 's0': {'data': 'hi'}, 'ss1': {'pos': 'c2', 'c2': {'pos': 's3', 's1': {'data': 'Niraj'}, 's2': {'data': '1231234567'}, 's3': {'data': ''}}}}\n"
     ]
    },
    {
     "data": {
      "text/plain": [
       "'email in format abc@qwe.zxc\\nyour email'"
      ]
     },
     "execution_count": 52,
     "metadata": {},
     "output_type": "execute_result"
    }
   ],
   "source": [
    "bot.respond('asd@qwe', 3)"
   ]
  },
  {
   "cell_type": "code",
   "execution_count": 53,
   "metadata": {
    "hidden": true
   },
   "outputs": [
    {
     "name": "stdout",
     "output_type": "stream",
     "text": [
      "composite answer current ss1 data {'pos': 'ss1', 's0': {'data': 'hi'}, 'ss1': {'pos': 'c2', 'c2': {'pos': 's3', 's1': {'data': 'Niraj'}, 's2': {'data': '1231234567'}, 's3': {'data': ''}}}}\n",
      "skip answer data {'pos': 'ss1', 's0': {'data': 'hi'}, 'ss1': {'pos': 'c2', 'c2': {'pos': 's3', 's1': {'data': 'Niraj'}, 's2': {'data': '1231234567'}, 's3': {'data': ''}}}}\n",
      "composite answer current s3 data {'pos': 's3', 's1': {'data': 'Niraj'}, 's2': {'data': '1231234567'}, 's3': {'data': ''}}\n",
      "composite question current s4 data {'pos': 's4', 's0': {'data': 'hi'}, 'ss1': {'pos': 'c2', 'c2': {'s1': {'data': 'Niraj'}, 's2': {'data': '1231234567'}, 's3': {'data': 'asd@qwe.com'}}}}\n",
      "adapter data {'pos': 's4', 's0': {'data': 'hi'}, 'ss1': {'pos': 'c2', 'c2': {'s1': {'data': 'Niraj'}, 's2': {'data': '1231234567'}, 's3': {'data': 'asd@qwe.com'}}}, 's4': {}}\n"
     ]
    },
    {
     "data": {
      "text/plain": [
       "'got it\\nyour income'"
      ]
     },
     "execution_count": 53,
     "metadata": {},
     "output_type": "execute_result"
    }
   ],
   "source": [
    "bot.respond('asd@qwe.com', 3)"
   ]
  },
  {
   "cell_type": "code",
   "execution_count": 57,
   "metadata": {
    "hidden": true
   },
   "outputs": [
    {
     "name": "stdout",
     "output_type": "stream",
     "text": [
      "composite answer current s4 data {'s0': {'data': 'hi'}, 'ss1': {'pos': 'c2', 'c2': {'s1': {'data': 'Niraj'}, 's2': {'data': '1231234567'}, 's3': {'data': 'asd@qwe.com'}}}, 's4': {'data': '11000'}, 's5': {'pos': 's52', 's52': {'data': 'No'}}, 'pos': 's4'}\n",
      "composite question current s5 data {'s0': {'data': 'hi'}, 'ss1': {'pos': 'c2', 'c2': {'s1': {'data': 'Niraj'}, 's2': {'data': '1231234567'}, 's3': {'data': 'asd@qwe.com'}}}, 's4': {'data': '9000'}, 's5': {'pos': 's52', 's52': {'data': 'No'}}, 'pos': 's5'}\n",
      "splitter question data {'s0': {'data': 'hi'}, 'ss1': {'pos': 'c2', 'c2': {'s1': {'data': 'Niraj'}, 's2': {'data': '1231234567'}, 's3': {'data': 'asd@qwe.com'}}}, 's4': {'data': '9000'}, 's5': {'pos': 's52', 's52': {'data': 'No'}}, 'pos': 's5'}\n",
      "splitter decider {'s0': {'data': 'hi'}, 'ss1': {'pos': 'c2', 'c2': {'s1': {'data': 'Niraj'}, 's2': {'data': '1231234567'}, 's3': {'data': 'asd@qwe.com'}}}, 's4': {'data': '9000'}, 's5': {'pos': 's52', 's52': {'data': 'No'}}, 'pos': 's5'} 9000\n",
      "decider s5 0\n",
      "splitter question data after pos set s5 s51 {'s0': {'data': 'hi'}, 'ss1': {'pos': 'c2', 'c2': {'s1': {'data': 'Niraj'}, 's2': {'data': '1231234567'}, 's3': {'data': 'asd@qwe.com'}}}, 's4': {'data': '9000'}, 's5': {'pos': 's51', 's52': {'data': 'No'}}, 'pos': 's5'}\n",
      "adapter data {'s0': {'data': 'hi'}, 'ss1': {'pos': 'c2', 'c2': {'s1': {'data': 'Niraj'}, 's2': {'data': '1231234567'}, 's3': {'data': 'asd@qwe.com'}}}, 's4': {'data': '9000'}, 's5': {'pos': 's51', 's52': {'data': 'No'}, 's51': {}}, 'pos': 's5'}\n"
     ]
    },
    {
     "data": {
      "text/plain": [
       "'ok\\nDo you have bike?'"
      ]
     },
     "execution_count": 57,
     "metadata": {},
     "output_type": "execute_result"
    }
   ],
   "source": [
    "bot.respond('9000', 3)"
   ]
  },
  {
   "cell_type": "code",
   "execution_count": 55,
   "metadata": {
    "hidden": true
   },
   "outputs": [
    {
     "name": "stdout",
     "output_type": "stream",
     "text": [
      "composite answer current s5 data {'pos': 's5', 's0': {'data': 'hi'}, 'ss1': {'pos': 'c2', 'c2': {'s1': {'data': 'Niraj'}, 's2': {'data': '1231234567'}, 's3': {'data': 'asd@qwe.com'}}}, 's4': {'data': '11000'}, 's5': {'pos': 's52', 's52': {}}}\n",
      "splitter answer data {'pos': 's5', 's0': {'data': 'hi'}, 'ss1': {'pos': 'c2', 'c2': {'s1': {'data': 'Niraj'}, 's2': {'data': '1231234567'}, 's3': {'data': 'asd@qwe.com'}}}, 's4': {'data': '11000'}, 's5': {'pos': 's52', 's52': {}}}\n",
      "splitter decider {'pos': 's5', 's0': {'data': 'hi'}, 'ss1': {'pos': 'c2', 'c2': {'s1': {'data': 'Niraj'}, 's2': {'data': '1231234567'}, 's3': {'data': 'asd@qwe.com'}}}, 's4': {'data': '11000'}, 's5': {'pos': 's52', 's52': {}}} 11000\n",
      "decider s5 1\n",
      "composite question current s0 data {'s0': {'data': 'hi'}, 'ss1': {'pos': 'c2', 'c2': {'s1': {'data': 'Niraj'}, 's2': {'data': '1231234567'}, 's3': {'data': 'asd@qwe.com'}}}, 's4': {'data': '11000'}, 's5': {'pos': 's52', 's52': {'data': 'No'}}, 'pos': 's0'}\n",
      "adapter data {'s0': {'data': 'hi'}, 'ss1': {'pos': 'c2', 'c2': {'s1': {'data': 'Niraj'}, 's2': {'data': '1231234567'}, 's3': {'data': 'asd@qwe.com'}}}, 's4': {'data': '11000'}, 's5': {'pos': 's52', 's52': {'data': 'No'}}, 'pos': 's0'}\n"
     ]
    },
    {
     "data": {
      "text/plain": [
       "'ok\\n'"
      ]
     },
     "execution_count": 55,
     "metadata": {},
     "output_type": "execute_result"
    }
   ],
   "source": [
    "bot.respond('No', 3)"
   ]
  },
  {
   "cell_type": "code",
   "execution_count": null,
   "metadata": {
    "hidden": true
   },
   "outputs": [],
   "source": [
    "bot.respond('ok', 3)"
   ]
  },
  {
   "cell_type": "code",
   "execution_count": null,
   "metadata": {
    "hidden": true
   },
   "outputs": [],
   "source": []
  },
  {
   "cell_type": "code",
   "execution_count": null,
   "metadata": {
    "hidden": true
   },
   "outputs": [],
   "source": [
    "bot.r.get(3)"
   ]
  },
  {
   "cell_type": "code",
   "execution_count": null,
   "metadata": {
    "hidden": true
   },
   "outputs": [],
   "source": []
  },
  {
   "cell_type": "code",
   "execution_count": null,
   "metadata": {
    "hidden": true
   },
   "outputs": [],
   "source": [
    "r = redis.Redis()\n",
    "r.exists(session_id)\n",
    "r.set(session_id, '{}')\n",
    "r.expire(session_id, 300)\n",
    "r.get(session_id)"
   ]
  },
  {
   "cell_type": "code",
   "execution_count": null,
   "metadata": {
    "hidden": true
   },
   "outputs": [],
   "source": []
  },
  {
   "cell_type": "code",
   "execution_count": null,
   "metadata": {
    "hidden": true
   },
   "outputs": [],
   "source": [
    "re.match('(\\+91)?\\d{10}$', '+911231231231') is not None"
   ]
  },
  {
   "cell_type": "code",
   "execution_count": null,
   "metadata": {
    "hidden": true
   },
   "outputs": [],
   "source": []
  },
  {
   "cell_type": "code",
   "execution_count": null,
   "metadata": {
    "hidden": true
   },
   "outputs": [],
   "source": []
  },
  {
   "cell_type": "code",
   "execution_count": null,
   "metadata": {
    "hidden": true
   },
   "outputs": [],
   "source": []
  },
  {
   "cell_type": "code",
   "execution_count": null,
   "metadata": {
    "hidden": true
   },
   "outputs": [],
   "source": []
  },
  {
   "cell_type": "code",
   "execution_count": null,
   "metadata": {
    "hidden": true
   },
   "outputs": [],
   "source": [
    "!pip install redis"
   ]
  },
  {
   "cell_type": "code",
   "execution_count": null,
   "metadata": {
    "hidden": true
   },
   "outputs": [],
   "source": [
    "y"
   ]
  },
  {
   "cell_type": "markdown",
   "metadata": {},
   "source": [
    "## Build Lib"
   ]
  },
  {
   "cell_type": "code",
   "execution_count": 9,
   "metadata": {},
   "outputs": [
    {
     "name": "stdout",
     "output_type": "stream",
     "text": [
      "Converted index.ipynb.\n",
      "Converted multiprocess-bot.ipynb.\n",
      "Converted oil-crm.ipynb.\n",
      "Converted scratchpad.ipynb.\n"
     ]
    }
   ],
   "source": [
    "from nbdev.export import notebook2script \n",
    "notebook2script()"
   ]
  },
  {
   "cell_type": "code",
   "execution_count": null,
   "metadata": {},
   "outputs": [],
   "source": []
  }
 ],
 "metadata": {
  "kernelspec": {
   "display_name": "Python 3",
   "language": "python",
   "name": "python3"
  },
  "language_info": {
   "codemirror_mode": {
    "name": "ipython",
    "version": 3
   },
   "file_extension": ".py",
   "mimetype": "text/x-python",
   "name": "python",
   "nbconvert_exporter": "python",
   "pygments_lexer": "ipython3",
   "version": "3.7.9"
  }
 },
 "nbformat": 4,
 "nbformat_minor": 2
}
