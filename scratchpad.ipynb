{
 "cells": [
  {
   "cell_type": "code",
   "execution_count": 1,
   "metadata": {},
   "outputs": [],
   "source": [
    "import re"
   ]
  },
  {
   "cell_type": "code",
   "execution_count": 2,
   "metadata": {},
   "outputs": [],
   "source": [
    "from pipe import *"
   ]
  },
  {
   "cell_type": "markdown",
   "metadata": {
    "heading_collapsed": true
   },
   "source": [
    "## SIP test"
   ]
  },
  {
   "cell_type": "code",
   "execution_count": 3,
   "metadata": {
    "hidden": true
   },
   "outputs": [],
   "source": [
    "class SIPSegment(ComputeSegment):\n",
    "    def answer(self, resp, data):\n",
    "        ans = super().answer(resp, data)\n",
    "        amt = float(data['sip1'].data)\n",
    "        mth = float(data['sip2'].data)\n",
    "        intr = float(data['sip3'].data)\n",
    "        cur = float(data['sip4'].data)\n",
    "        \n",
    "        sip = (amt) * (intr/1200) / ((1+intr/1200) ** mth - 1)\n",
    "        \n",
    "        return f'your monthly SIP is {sip}'\n",
    "    "
   ]
  },
  {
   "cell_type": "code",
   "execution_count": 4,
   "metadata": {
    "hidden": true
   },
   "outputs": [],
   "source": [
    "class RiskProfileSegment(MultiChoiceSegment):\n",
    "    def __init__(self, key, q, ans_lst, point_lst):\n",
    "        super().__init__(key, q, ans_lst)\n",
    "        self.point_lst = point_lst\n",
    "    \n",
    "    def answer(self, resp):\n",
    "        if not self.anext:\n",
    "            self.anext = self.next\n",
    "        if 0 < tryint(resp) <= len(self.ans_lst):\n",
    "            self.next = self.anext\n",
    "            self.data = (self.ans_lst[tryint(resp) - 1], self.point_lst[tryint(resp) - 1])\n",
    "            return 'ok'\n",
    "        self.next = self\n",
    "        return self.err   \n",
    "        \n",
    "    "
   ]
  },
  {
   "cell_type": "code",
   "execution_count": 5,
   "metadata": {
    "hidden": true
   },
   "outputs": [],
   "source": [
    "class RiskProfileComputeSegment(MultiChoiceSegment, ComputeSegment):\n",
    "    def __init__(self, key, q, ans_lst, point_lst):\n",
    "        super().__init__(key, q, ans_lst)\n",
    "        self.point_lst = point_lst\n",
    "    \n",
    "    def answer(self, resp, data):\n",
    "        if not self.anext:\n",
    "            self.anext = self.next\n",
    "        if 0 < tryint(resp) <= len(self.ans_lst):\n",
    "            self.next = self.anext\n",
    "            self.data = (self.ans_lst[tryint(resp) - 1], self.point_lst[tryint(resp) - 1])\n",
    "            \n",
    "            pts = 0\n",
    "            for i in range(1, 4):\n",
    "                pts += int(data[f'r{i}'].data[1])\n",
    "                \n",
    "            return f'Your total points: {pts}'\n",
    "        self.next = self\n",
    "        return self.err   \n",
    "        \n",
    "    "
   ]
  },
  {
   "cell_type": "code",
   "execution_count": 11,
   "metadata": {
    "hidden": true
   },
   "outputs": [],
   "source": [
    "def _test(data):\n",
    "    print(data['s1'].data)\n",
    "    return data['s1'].data == 'yes'"
   ]
  },
  {
   "cell_type": "code",
   "execution_count": 12,
   "metadata": {
    "hidden": true
   },
   "outputs": [],
   "source": [
    "bot = Composite('s', \n",
    "    Segment('s1', 'do you have debt', 'ok'),\n",
    "    SkipSplitter('s2', \n",
    "                Segment('s3', 'how much', 'ok'),\n",
    "                _test),\n",
    "    Segment('s4', 'and deposits?', 'ok'))"
   ]
  },
  {
   "cell_type": "code",
   "execution_count": null,
   "metadata": {
    "hidden": true
   },
   "outputs": [],
   "source": []
  },
  {
   "cell_type": "code",
   "execution_count": 6,
   "metadata": {
    "hidden": true
   },
   "outputs": [
    {
     "data": {
      "text/plain": [
       "<class 'pipe.Composite.Composite'>: main"
      ]
     },
     "execution_count": 6,
     "metadata": {},
     "output_type": "execute_result"
    }
   ],
   "source": [
    "info"
   ]
  },
  {
   "cell_type": "code",
   "execution_count": 6,
   "metadata": {
    "hidden": true
   },
   "outputs": [],
   "source": [
    "sipbot = Composite('sip', \n",
    "    Segment('sip1', 'Desired amount at end', 'ok'),\n",
    "    Segment('sip2', 'Months', 'ok'),\n",
    "    Segment('sip3', 'Expected rate of interest', 'ok'),\n",
    "    SIPSegment('sip4', 'Current investment', ''))\n"
   ]
  },
  {
   "cell_type": "code",
   "execution_count": 7,
   "metadata": {
    "hidden": true
   },
   "outputs": [],
   "source": [
    "rprof = Composite('rprof', \n",
    "                 RiskProfileSegment('r1', 'annual income?', ['<10000', '10,000 - 100,000', \n",
    "                                                            '100,000 - 1,000,000', '>1,000,000'],\n",
    "                                   [1, 2, 3, 4]),\n",
    "                 RiskProfileSegment('r2', 'monthly saving?', ['No saving', '<1,000', \n",
    "                                                            '1,000 - 10,000', '>10,000'],\n",
    "                                   [1, 2, 3, 4]),\n",
    "                 RiskProfileComputeSegment('r3', 'interest?', ['fixed deposit', 'bonds', \n",
    "                                                            'mutual fund', 'stock options'],\n",
    "                                   [1, 2, 3, 4]), \n",
    "                 )"
   ]
  },
  {
   "cell_type": "code",
   "execution_count": null,
   "metadata": {
    "hidden": true
   },
   "outputs": [],
   "source": []
  },
  {
   "cell_type": "code",
   "execution_count": null,
   "metadata": {
    "hidden": true
   },
   "outputs": [],
   "source": []
  },
  {
   "cell_type": "code",
   "execution_count": 8,
   "metadata": {
    "hidden": true
   },
   "outputs": [],
   "source": [
    "import re"
   ]
  },
  {
   "cell_type": "code",
   "execution_count": 9,
   "metadata": {
    "hidden": true
   },
   "outputs": [],
   "source": [
    "from pipe import *"
   ]
  },
  {
   "cell_type": "code",
   "execution_count": 10,
   "metadata": {
    "hidden": true
   },
   "outputs": [],
   "source": [
    "info = Composite(\n",
    "            'main',\n",
    "            Segment('name', 'your name?', 'ok'),\n",
    "            ValidatedSegment('mobile', 'your mobile number?', 'ok', \n",
    "                             'mobile num should be 10 digits long',\n",
    "                            lambda x: re.match('\\d{10}', x) is not None),\n",
    "            Segment('email', 'your email?', 'ok'),            \n",
    "        )"
   ]
  },
  {
   "cell_type": "code",
   "execution_count": 11,
   "metadata": {
    "hidden": true
   },
   "outputs": [],
   "source": [
    "intro = Segment('intro', '', 'Thanks for visiting.')"
   ]
  },
  {
   "cell_type": "code",
   "execution_count": 12,
   "metadata": {
    "hidden": true
   },
   "outputs": [],
   "source": [
    "thanks = Segment('thanks', 'thanks would you like to see ad?', 'ok')"
   ]
  },
  {
   "cell_type": "code",
   "execution_count": 13,
   "metadata": {
    "hidden": true
   },
   "outputs": [],
   "source": [
    "bot = Composite('bot',\n",
    "               intro,\n",
    "               SkipSplitter('info', info, decider_fn=lambda x: x['info'].data['main'].data['name'].data == ''),\n",
    "               MultiChoiceSegment('path', 'Please choose your task', ['SIP', 'Risk Profile']),\n",
    "                Splitter('pth', sipbot, rprof, decider_fn=lambda x: tryint(x['path'].data[0])),\n",
    "               thanks)"
   ]
  },
  {
   "cell_type": "code",
   "execution_count": 62,
   "metadata": {
    "hidden": true
   },
   "outputs": [
    {
     "data": {
      "text/plain": [
       "'SIP'"
      ]
     },
     "execution_count": 62,
     "metadata": {},
     "output_type": "execute_result"
    }
   ],
   "source": [
    "bot.data['path'].data"
   ]
  },
  {
   "cell_type": "code",
   "execution_count": 14,
   "metadata": {
    "hidden": true
   },
   "outputs": [
    {
     "name": "stdout",
     "output_type": "stream",
     "text": [
      "decider info True\n"
     ]
    },
    {
     "data": {
      "text/plain": [
       "'Thanks for visiting.'"
      ]
     },
     "execution_count": 14,
     "metadata": {},
     "output_type": "execute_result"
    }
   ],
   "source": [
    "bot.answer('hi')"
   ]
  },
  {
   "cell_type": "code",
   "execution_count": 15,
   "metadata": {
    "hidden": true
   },
   "outputs": [
    {
     "name": "stdout",
     "output_type": "stream",
     "text": [
      "your name?\n"
     ]
    }
   ],
   "source": [
    "print(bot.question())"
   ]
  },
  {
   "cell_type": "code",
   "execution_count": 16,
   "metadata": {
    "hidden": true
   },
   "outputs": [
    {
     "data": {
      "text/plain": [
       "'ok'"
      ]
     },
     "execution_count": 16,
     "metadata": {},
     "output_type": "execute_result"
    }
   ],
   "source": [
    "bot.answer('Niraj')"
   ]
  },
  {
   "cell_type": "code",
   "execution_count": 17,
   "metadata": {
    "hidden": true
   },
   "outputs": [
    {
     "name": "stdout",
     "output_type": "stream",
     "text": [
      "your mobile number?\n"
     ]
    }
   ],
   "source": [
    "print(bot.question())"
   ]
  },
  {
   "cell_type": "code",
   "execution_count": 18,
   "metadata": {
    "hidden": true
   },
   "outputs": [
    {
     "data": {
      "text/plain": [
       "'ok'"
      ]
     },
     "execution_count": 18,
     "metadata": {},
     "output_type": "execute_result"
    }
   ],
   "source": [
    "bot.answer('9876543210')"
   ]
  },
  {
   "cell_type": "code",
   "execution_count": 19,
   "metadata": {
    "hidden": true
   },
   "outputs": [
    {
     "name": "stdout",
     "output_type": "stream",
     "text": [
      "your email?\n"
     ]
    }
   ],
   "source": [
    "print(bot.question())"
   ]
  },
  {
   "cell_type": "code",
   "execution_count": 20,
   "metadata": {
    "hidden": true
   },
   "outputs": [
    {
     "data": {
      "text/plain": [
       "'ok'"
      ]
     },
     "execution_count": 20,
     "metadata": {},
     "output_type": "execute_result"
    }
   ],
   "source": [
    "bot.answer('asd')"
   ]
  },
  {
   "cell_type": "code",
   "execution_count": 21,
   "metadata": {
    "hidden": true
   },
   "outputs": [
    {
     "name": "stdout",
     "output_type": "stream",
     "text": [
      "Please choose your task\n",
      "1. SIP\n",
      "2. Risk Profile\n"
     ]
    }
   ],
   "source": [
    "print(bot.question())"
   ]
  },
  {
   "cell_type": "code",
   "execution_count": 22,
   "metadata": {
    "hidden": true
   },
   "outputs": [
    {
     "name": "stdout",
     "output_type": "stream",
     "text": [
      "decider pth 0\n"
     ]
    },
    {
     "data": {
      "text/plain": [
       "'ok'"
      ]
     },
     "execution_count": 22,
     "metadata": {},
     "output_type": "execute_result"
    }
   ],
   "source": [
    "bot.answer('1')"
   ]
  },
  {
   "cell_type": "code",
   "execution_count": 23,
   "metadata": {
    "hidden": true
   },
   "outputs": [
    {
     "name": "stdout",
     "output_type": "stream",
     "text": [
      "Desired amount at end\n"
     ]
    }
   ],
   "source": [
    "print(bot.question())"
   ]
  },
  {
   "cell_type": "code",
   "execution_count": 24,
   "metadata": {
    "hidden": true
   },
   "outputs": [
    {
     "data": {
      "text/plain": [
       "'ok'"
      ]
     },
     "execution_count": 24,
     "metadata": {},
     "output_type": "execute_result"
    }
   ],
   "source": [
    "bot.answer('10000000')"
   ]
  },
  {
   "cell_type": "code",
   "execution_count": 25,
   "metadata": {
    "hidden": true
   },
   "outputs": [
    {
     "name": "stdout",
     "output_type": "stream",
     "text": [
      "Months\n"
     ]
    }
   ],
   "source": [
    "print(bot.question())"
   ]
  },
  {
   "cell_type": "code",
   "execution_count": 26,
   "metadata": {
    "hidden": true
   },
   "outputs": [
    {
     "data": {
      "text/plain": [
       "'ok'"
      ]
     },
     "execution_count": 26,
     "metadata": {},
     "output_type": "execute_result"
    }
   ],
   "source": [
    "bot.answer('120')"
   ]
  },
  {
   "cell_type": "code",
   "execution_count": 27,
   "metadata": {
    "hidden": true
   },
   "outputs": [
    {
     "name": "stdout",
     "output_type": "stream",
     "text": [
      "Expected rate of interest\n"
     ]
    }
   ],
   "source": [
    "print(bot.question())"
   ]
  },
  {
   "cell_type": "code",
   "execution_count": 28,
   "metadata": {
    "hidden": true
   },
   "outputs": [
    {
     "data": {
      "text/plain": [
       "'ok'"
      ]
     },
     "execution_count": 28,
     "metadata": {},
     "output_type": "execute_result"
    }
   ],
   "source": [
    "bot.answer('12')"
   ]
  },
  {
   "cell_type": "code",
   "execution_count": 29,
   "metadata": {
    "hidden": true
   },
   "outputs": [
    {
     "name": "stdout",
     "output_type": "stream",
     "text": [
      "Current investment\n"
     ]
    }
   ],
   "source": [
    "print(bot.question())"
   ]
  },
  {
   "cell_type": "code",
   "execution_count": 30,
   "metadata": {
    "hidden": true
   },
   "outputs": [
    {
     "data": {
      "text/plain": [
       "'your monthly SIP is 43470.94840258731'"
      ]
     },
     "execution_count": 30,
     "metadata": {},
     "output_type": "execute_result"
    }
   ],
   "source": [
    "bot.answer('300000')"
   ]
  },
  {
   "cell_type": "code",
   "execution_count": 31,
   "metadata": {
    "hidden": true
   },
   "outputs": [
    {
     "name": "stdout",
     "output_type": "stream",
     "text": [
      "thanks would you like to see ad?\n"
     ]
    }
   ],
   "source": [
    "print(bot.question())"
   ]
  },
  {
   "cell_type": "code",
   "execution_count": 32,
   "metadata": {
    "hidden": true
   },
   "outputs": [
    {
     "data": {
      "text/plain": [
       "'ok'"
      ]
     },
     "execution_count": 32,
     "metadata": {},
     "output_type": "execute_result"
    }
   ],
   "source": [
    "bot.answer('no')"
   ]
  },
  {
   "cell_type": "code",
   "execution_count": 33,
   "metadata": {
    "hidden": true
   },
   "outputs": [
    {
     "name": "stdout",
     "output_type": "stream",
     "text": [
      "\n"
     ]
    }
   ],
   "source": [
    "print(bot.question())"
   ]
  },
  {
   "cell_type": "code",
   "execution_count": 34,
   "metadata": {
    "hidden": true
   },
   "outputs": [
    {
     "name": "stdout",
     "output_type": "stream",
     "text": [
      "decider info False\n"
     ]
    },
    {
     "data": {
      "text/plain": [
       "'Thanks for visiting.'"
      ]
     },
     "execution_count": 34,
     "metadata": {},
     "output_type": "execute_result"
    }
   ],
   "source": [
    "bot.answer('1')"
   ]
  },
  {
   "cell_type": "code",
   "execution_count": 35,
   "metadata": {
    "hidden": true
   },
   "outputs": [
    {
     "name": "stdout",
     "output_type": "stream",
     "text": [
      "Please choose your task\n",
      "1. SIP\n",
      "2. Risk Profile\n"
     ]
    }
   ],
   "source": [
    "print(bot.question())"
   ]
  },
  {
   "cell_type": "code",
   "execution_count": 36,
   "metadata": {
    "hidden": true
   },
   "outputs": [
    {
     "name": "stdout",
     "output_type": "stream",
     "text": [
      "decider pth 1\n"
     ]
    },
    {
     "data": {
      "text/plain": [
       "'ok'"
      ]
     },
     "execution_count": 36,
     "metadata": {},
     "output_type": "execute_result"
    }
   ],
   "source": [
    "bot.answer('2')"
   ]
  },
  {
   "cell_type": "code",
   "execution_count": 37,
   "metadata": {
    "hidden": true
   },
   "outputs": [
    {
     "name": "stdout",
     "output_type": "stream",
     "text": [
      "annual income?\n",
      "1. <10000\n",
      "2. 10,000 - 100,000\n",
      "3. 100,000 - 1,000,000\n",
      "4. >1,000,000\n"
     ]
    }
   ],
   "source": [
    "print(bot.question())"
   ]
  },
  {
   "cell_type": "code",
   "execution_count": 38,
   "metadata": {
    "hidden": true
   },
   "outputs": [
    {
     "data": {
      "text/plain": [
       "'ok'"
      ]
     },
     "execution_count": 38,
     "metadata": {},
     "output_type": "execute_result"
    }
   ],
   "source": [
    "bot.answer('3')"
   ]
  },
  {
   "cell_type": "code",
   "execution_count": 39,
   "metadata": {
    "hidden": true
   },
   "outputs": [
    {
     "name": "stdout",
     "output_type": "stream",
     "text": [
      "monthly saving?\n",
      "1. No saving\n",
      "2. <1,000\n",
      "3. 1,000 - 10,000\n",
      "4. >10,000\n"
     ]
    }
   ],
   "source": [
    "print(bot.question())"
   ]
  },
  {
   "cell_type": "code",
   "execution_count": 40,
   "metadata": {
    "hidden": true
   },
   "outputs": [
    {
     "data": {
      "text/plain": [
       "'ok'"
      ]
     },
     "execution_count": 40,
     "metadata": {},
     "output_type": "execute_result"
    }
   ],
   "source": [
    "bot.answer('2')"
   ]
  },
  {
   "cell_type": "code",
   "execution_count": 41,
   "metadata": {
    "hidden": true
   },
   "outputs": [
    {
     "name": "stdout",
     "output_type": "stream",
     "text": [
      "interest?\n",
      "1. fixed deposit\n",
      "2. bonds\n",
      "3. mutual fund\n",
      "4. stock options\n"
     ]
    }
   ],
   "source": [
    "print(bot.question())"
   ]
  },
  {
   "cell_type": "code",
   "execution_count": 42,
   "metadata": {
    "hidden": true
   },
   "outputs": [
    {
     "data": {
      "text/plain": [
       "'Your total points: 8'"
      ]
     },
     "execution_count": 42,
     "metadata": {},
     "output_type": "execute_result"
    }
   ],
   "source": [
    "bot.answer('3')"
   ]
  },
  {
   "cell_type": "code",
   "execution_count": 43,
   "metadata": {
    "hidden": true
   },
   "outputs": [
    {
     "name": "stdout",
     "output_type": "stream",
     "text": [
      "thanks would you like to see ad?\n"
     ]
    }
   ],
   "source": [
    "print(bot.question())"
   ]
  },
  {
   "cell_type": "code",
   "execution_count": null,
   "metadata": {
    "hidden": true
   },
   "outputs": [],
   "source": [
    "1"
   ]
  },
  {
   "cell_type": "markdown",
   "metadata": {},
   "source": [
    "## Test looping composite model"
   ]
  },
  {
   "cell_type": "code",
   "execution_count": 1,
   "metadata": {},
   "outputs": [],
   "source": [
    "%load_ext autoreload"
   ]
  },
  {
   "cell_type": "code",
   "execution_count": 2,
   "metadata": {},
   "outputs": [],
   "source": [
    "%autoreload 2"
   ]
  },
  {
   "cell_type": "code",
   "execution_count": 3,
   "metadata": {},
   "outputs": [],
   "source": [
    "from flowchatbot import *"
   ]
  },
  {
   "cell_type": "code",
   "execution_count": 14,
   "metadata": {},
   "outputs": [],
   "source": [
    "class OrderComputeSegment(ComputeSegment):\n",
    "    def answer(self, resp, data):\n",
    "        print(f'compute data {data}')\n",
    "        orders = get_chained_data(data, self.key, 'orders')\n",
    "        if orders is None:\n",
    "            orders = []\n",
    "            set_chained_data(data, self.key, 'orders', val=orders)\n",
    "        order = {\n",
    "            'product': get_chained_data(data, 's3', 'data'),\n",
    "            'quantity': get_chained_data(data, 's4', 'data'),\n",
    "        }\n",
    "        orders += [order]\n",
    "        print(f'orders: {orders}')\n",
    "        set_chained_data(data, self.key, 'data', val=resp)\n",
    "        return CHAT_RET.NEXT, {'txt': self.a}"
   ]
  },
  {
   "cell_type": "code",
   "execution_count": 15,
   "metadata": {},
   "outputs": [],
   "source": [
    "def decide_order(data):\n",
    "    if get_chained_data(data, 'ss1', 'c2', 's5', 'data') == 'no':\n",
    "        return 0\n",
    "    return 1"
   ]
  },
  {
   "cell_type": "code",
   "execution_count": 16,
   "metadata": {},
   "outputs": [
    {
     "data": {
      "text/plain": [
       "True"
      ]
     },
     "execution_count": 16,
     "metadata": {},
     "output_type": "execute_result"
    }
   ],
   "source": [
    "bot = TextAdapter(\n",
    "    Composite('c1',\n",
    "              Segment('s1', '', 'welcome'),\n",
    "              SkipSplitter('ss1', \n",
    "                  LoopComposite('c2',\n",
    "                        Segment('s3', 'what do you want (petrol, gas, diesel)?',\n",
    "                           'ok'),\n",
    "                        Segment('s4', 'in what quantity?', 'ok'),\n",
    "                        OrderComputeSegment('s5', 'would you like to order more?',\n",
    "                                           'thanks')\n",
    "                        ),\n",
    "                    decider_fn=decide_order),\n",
    "              Segment('s2', 'Do you want to confirm order?', 'Thanks')\n",
    "         )\n",
    ")\n",
    "bot.r.flushall()"
   ]
  },
  {
   "cell_type": "code",
   "execution_count": 17,
   "metadata": {},
   "outputs": [
    {
     "name": "stdout",
     "output_type": "stream",
     "text": [
      "composite answer current s1 data {'pos': 's1'}\n",
      "composite question current ss1 data {'pos': 'ss1', 's1': {'data': 'hi'}}\n",
      "skip question data {'pos': 'ss1', 's1': {'data': 'hi'}, 'ss1': {}}\n",
      "composite question current s3 data {'pos': 's3'}\n",
      "adapter data {'pos': 'ss1', 's1': {'data': 'hi'}, 'ss1': {'pos': 'c2', 'c2': {'pos': 's3', 's3': {}}}}\n"
     ]
    },
    {
     "data": {
      "text/plain": [
       "'welcome\\nwhat do you want (petrol, gas, diesel)?'"
      ]
     },
     "execution_count": 17,
     "metadata": {},
     "output_type": "execute_result"
    }
   ],
   "source": [
    "bot.respond('hi', 0)"
   ]
  },
  {
   "cell_type": "code",
   "execution_count": 18,
   "metadata": {},
   "outputs": [
    {
     "name": "stdout",
     "output_type": "stream",
     "text": [
      "composite answer current ss1 data {'pos': 'ss1', 's1': {'data': 'hi'}, 'ss1': {'pos': 'c2', 'c2': {'pos': 's3', 's3': {}}}}\n",
      "skip answer data {'pos': 'ss1', 's1': {'data': 'hi'}, 'ss1': {'pos': 'c2', 'c2': {'pos': 's3', 's3': {}}}}\n",
      "composite answer current s3 data {'pos': 's3', 's3': {}}\n",
      "composite question current ss1 data {'pos': 'ss1', 's1': {'data': 'hi'}, 'ss1': {'pos': 'c2', 'c2': {'pos': 's4', 's3': {'data': 'petrol'}}}}\n",
      "skip question data {'pos': 'ss1', 's1': {'data': 'hi'}, 'ss1': {'pos': 'c2', 'c2': {'pos': 's4', 's3': {'data': 'petrol'}}}}\n",
      "composite question current s4 data {'pos': 's4', 's3': {'data': 'petrol'}}\n",
      "adapter data {'pos': 'ss1', 's1': {'data': 'hi'}, 'ss1': {'pos': 'c2', 'c2': {'pos': 's4', 's3': {'data': 'petrol'}, 's4': {}}}}\n"
     ]
    },
    {
     "data": {
      "text/plain": [
       "'ok\\nin what quantity?'"
      ]
     },
     "execution_count": 18,
     "metadata": {},
     "output_type": "execute_result"
    }
   ],
   "source": [
    "bot.respond('petrol', 0)"
   ]
  },
  {
   "cell_type": "code",
   "execution_count": 19,
   "metadata": {},
   "outputs": [
    {
     "name": "stdout",
     "output_type": "stream",
     "text": [
      "composite answer current ss1 data {'pos': 'ss1', 's1': {'data': 'hi'}, 'ss1': {'pos': 'c2', 'c2': {'pos': 's4', 's3': {'data': 'petrol'}, 's4': {}}}}\n",
      "skip answer data {'pos': 'ss1', 's1': {'data': 'hi'}, 'ss1': {'pos': 'c2', 'c2': {'pos': 's4', 's3': {'data': 'petrol'}, 's4': {}}}}\n",
      "composite answer current s4 data {'pos': 's4', 's3': {'data': 'petrol'}, 's4': {}}\n",
      "composite question current ss1 data {'pos': 'ss1', 's1': {'data': 'hi'}, 'ss1': {'pos': 'c2', 'c2': {'pos': 's5', 's3': {'data': 'petrol'}, 's4': {'data': '2 ltr'}}}}\n",
      "skip question data {'pos': 'ss1', 's1': {'data': 'hi'}, 'ss1': {'pos': 'c2', 'c2': {'pos': 's5', 's3': {'data': 'petrol'}, 's4': {'data': '2 ltr'}}}}\n",
      "composite question current s5 data {'pos': 's5', 's3': {'data': 'petrol'}, 's4': {'data': '2 ltr'}}\n",
      "adapter data {'pos': 'ss1', 's1': {'data': 'hi'}, 'ss1': {'pos': 'c2', 'c2': {'pos': 's5', 's3': {'data': 'petrol'}, 's4': {'data': '2 ltr'}, 's5': {}}}}\n"
     ]
    },
    {
     "data": {
      "text/plain": [
       "'ok\\nwould you like to order more?'"
      ]
     },
     "execution_count": 19,
     "metadata": {},
     "output_type": "execute_result"
    }
   ],
   "source": [
    "bot.respond('2 ltr', 0)"
   ]
  },
  {
   "cell_type": "code",
   "execution_count": 20,
   "metadata": {},
   "outputs": [
    {
     "name": "stdout",
     "output_type": "stream",
     "text": [
      "composite answer current ss1 data {'pos': 'ss1', 's1': {'data': 'hi'}, 'ss1': {'pos': 'c2', 'c2': {'pos': 's5', 's3': {'data': 'petrol'}, 's4': {'data': '2 ltr'}, 's5': {}}}}\n",
      "skip answer data {'pos': 'ss1', 's1': {'data': 'hi'}, 'ss1': {'pos': 'c2', 'c2': {'pos': 's5', 's3': {'data': 'petrol'}, 's4': {'data': '2 ltr'}, 's5': {}}}}\n",
      "composite answer current s5 data {'pos': 's5', 's3': {'data': 'petrol'}, 's4': {'data': '2 ltr'}, 's5': {}}\n",
      "compute data {'pos': 's5', 's3': {'data': 'petrol'}, 's4': {'data': '2 ltr'}, 's5': {}}\n",
      "orders: [{'product': 'petrol', 'quantity': '2 ltr'}]\n",
      "composite question current ss1 data {'pos': 'ss1', 's1': {'data': 'hi'}, 'ss1': {'pos': 'c2', 'c2': {'s3': {'data': 'petrol'}, 's4': {'data': '2 ltr'}, 's5': {'orders': [{'product': 'petrol', 'quantity': '2 ltr'}], 'data': 'yes'}}}}\n",
      "skip question data {'pos': 'ss1', 's1': {'data': 'hi'}, 'ss1': {'pos': 'c2', 'c2': {'s3': {'data': 'petrol'}, 's4': {'data': '2 ltr'}, 's5': {'orders': [{'product': 'petrol', 'quantity': '2 ltr'}], 'data': 'yes'}}}}\n",
      "composite question current s3 data {'s3': {'data': 'petrol'}, 's4': {'data': '2 ltr'}, 's5': {'orders': [{'product': 'petrol', 'quantity': '2 ltr'}], 'data': 'yes'}, 'pos': 's3'}\n",
      "adapter data {'pos': 'ss1', 's1': {'data': 'hi'}, 'ss1': {'pos': 'c2', 'c2': {'s3': {'data': 'petrol'}, 's4': {'data': '2 ltr'}, 's5': {'orders': [{'product': 'petrol', 'quantity': '2 ltr'}], 'data': 'yes'}, 'pos': 's3'}}}\n"
     ]
    },
    {
     "data": {
      "text/plain": [
       "'thanks\\nwhat do you want (petrol, gas, diesel)?'"
      ]
     },
     "execution_count": 20,
     "metadata": {},
     "output_type": "execute_result"
    }
   ],
   "source": [
    "bot.respond('yes', 0)"
   ]
  },
  {
   "cell_type": "code",
   "execution_count": 21,
   "metadata": {},
   "outputs": [
    {
     "name": "stdout",
     "output_type": "stream",
     "text": [
      "composite answer current ss1 data {'pos': 'ss1', 's1': {'data': 'hi'}, 'ss1': {'pos': 'c2', 'c2': {'s3': {'data': 'petrol'}, 's4': {'data': '2 ltr'}, 's5': {'orders': [{'product': 'petrol', 'quantity': '2 ltr'}], 'data': 'yes'}, 'pos': 's3'}}}\n",
      "skip answer data {'pos': 'ss1', 's1': {'data': 'hi'}, 'ss1': {'pos': 'c2', 'c2': {'s3': {'data': 'petrol'}, 's4': {'data': '2 ltr'}, 's5': {'orders': [{'product': 'petrol', 'quantity': '2 ltr'}], 'data': 'yes'}, 'pos': 's3'}}}\n",
      "composite answer current s3 data {'s3': {'data': 'petrol'}, 's4': {'data': '2 ltr'}, 's5': {'orders': [{'product': 'petrol', 'quantity': '2 ltr'}], 'data': 'yes'}, 'pos': 's3'}\n",
      "composite question current ss1 data {'pos': 'ss1', 's1': {'data': 'hi'}, 'ss1': {'pos': 'c2', 'c2': {'s3': {'data': 'gas'}, 's4': {'data': '2 ltr'}, 's5': {'orders': [{'product': 'petrol', 'quantity': '2 ltr'}], 'data': 'yes'}, 'pos': 's4'}}}\n",
      "skip question data {'pos': 'ss1', 's1': {'data': 'hi'}, 'ss1': {'pos': 'c2', 'c2': {'s3': {'data': 'gas'}, 's4': {'data': '2 ltr'}, 's5': {'orders': [{'product': 'petrol', 'quantity': '2 ltr'}], 'data': 'yes'}, 'pos': 's4'}}}\n",
      "composite question current s4 data {'s3': {'data': 'gas'}, 's4': {'data': '2 ltr'}, 's5': {'orders': [{'product': 'petrol', 'quantity': '2 ltr'}], 'data': 'yes'}, 'pos': 's4'}\n",
      "adapter data {'pos': 'ss1', 's1': {'data': 'hi'}, 'ss1': {'pos': 'c2', 'c2': {'s3': {'data': 'gas'}, 's4': {'data': '2 ltr'}, 's5': {'orders': [{'product': 'petrol', 'quantity': '2 ltr'}], 'data': 'yes'}, 'pos': 's4'}}}\n"
     ]
    },
    {
     "data": {
      "text/plain": [
       "'ok\\nin what quantity?'"
      ]
     },
     "execution_count": 21,
     "metadata": {},
     "output_type": "execute_result"
    }
   ],
   "source": [
    "bot.respond('gas', 0)"
   ]
  },
  {
   "cell_type": "code",
   "execution_count": 22,
   "metadata": {},
   "outputs": [
    {
     "name": "stdout",
     "output_type": "stream",
     "text": [
      "composite answer current ss1 data {'pos': 'ss1', 's1': {'data': 'hi'}, 'ss1': {'pos': 'c2', 'c2': {'s3': {'data': 'gas'}, 's4': {'data': '2 ltr'}, 's5': {'orders': [{'product': 'petrol', 'quantity': '2 ltr'}], 'data': 'yes'}, 'pos': 's4'}}}\n",
      "skip answer data {'pos': 'ss1', 's1': {'data': 'hi'}, 'ss1': {'pos': 'c2', 'c2': {'s3': {'data': 'gas'}, 's4': {'data': '2 ltr'}, 's5': {'orders': [{'product': 'petrol', 'quantity': '2 ltr'}], 'data': 'yes'}, 'pos': 's4'}}}\n",
      "composite answer current s4 data {'s3': {'data': 'gas'}, 's4': {'data': '2 ltr'}, 's5': {'orders': [{'product': 'petrol', 'quantity': '2 ltr'}], 'data': 'yes'}, 'pos': 's4'}\n",
      "composite question current ss1 data {'pos': 'ss1', 's1': {'data': 'hi'}, 'ss1': {'pos': 'c2', 'c2': {'s3': {'data': 'gas'}, 's4': {'data': '5 kg'}, 's5': {'orders': [{'product': 'petrol', 'quantity': '2 ltr'}], 'data': 'yes'}, 'pos': 's5'}}}\n",
      "skip question data {'pos': 'ss1', 's1': {'data': 'hi'}, 'ss1': {'pos': 'c2', 'c2': {'s3': {'data': 'gas'}, 's4': {'data': '5 kg'}, 's5': {'orders': [{'product': 'petrol', 'quantity': '2 ltr'}], 'data': 'yes'}, 'pos': 's5'}}}\n",
      "composite question current s5 data {'s3': {'data': 'gas'}, 's4': {'data': '5 kg'}, 's5': {'orders': [{'product': 'petrol', 'quantity': '2 ltr'}], 'data': 'yes'}, 'pos': 's5'}\n",
      "adapter data {'pos': 'ss1', 's1': {'data': 'hi'}, 'ss1': {'pos': 'c2', 'c2': {'s3': {'data': 'gas'}, 's4': {'data': '5 kg'}, 's5': {'orders': [{'product': 'petrol', 'quantity': '2 ltr'}], 'data': 'yes'}, 'pos': 's5'}}}\n"
     ]
    },
    {
     "data": {
      "text/plain": [
       "'ok\\nwould you like to order more?'"
      ]
     },
     "execution_count": 22,
     "metadata": {},
     "output_type": "execute_result"
    }
   ],
   "source": [
    "bot.respond('5 kg', 0)"
   ]
  },
  {
   "cell_type": "code",
   "execution_count": 23,
   "metadata": {},
   "outputs": [
    {
     "name": "stdout",
     "output_type": "stream",
     "text": [
      "composite answer current ss1 data {'pos': 'ss1', 's1': {'data': 'hi'}, 'ss1': {'pos': 'c2', 'c2': {'s3': {'data': 'gas'}, 's4': {'data': '5 kg'}, 's5': {'orders': [{'product': 'petrol', 'quantity': '2 ltr'}], 'data': 'yes'}, 'pos': 's5'}}}\n",
      "skip answer data {'pos': 'ss1', 's1': {'data': 'hi'}, 'ss1': {'pos': 'c2', 'c2': {'s3': {'data': 'gas'}, 's4': {'data': '5 kg'}, 's5': {'orders': [{'product': 'petrol', 'quantity': '2 ltr'}], 'data': 'yes'}, 'pos': 's5'}}}\n",
      "composite answer current s5 data {'s3': {'data': 'gas'}, 's4': {'data': '5 kg'}, 's5': {'orders': [{'product': 'petrol', 'quantity': '2 ltr'}], 'data': 'yes'}, 'pos': 's5'}\n",
      "compute data {'s3': {'data': 'gas'}, 's4': {'data': '5 kg'}, 's5': {'orders': [{'product': 'petrol', 'quantity': '2 ltr'}], 'data': 'yes'}, 'pos': 's5'}\n",
      "orders: [{'product': 'petrol', 'quantity': '2 ltr'}, {'product': 'gas', 'quantity': '5 kg'}]\n",
      "composite question current ss1 data {'pos': 'ss1', 's1': {'data': 'hi'}, 'ss1': {'pos': 'c2', 'c2': {'s3': {'data': 'gas'}, 's4': {'data': '5 kg'}, 's5': {'orders': [{'product': 'petrol', 'quantity': '2 ltr'}, {'product': 'gas', 'quantity': '5 kg'}], 'data': 'no'}}}}\n",
      "skip question data {'pos': 'ss1', 's1': {'data': 'hi'}, 'ss1': {'pos': 'c2', 'c2': {'s3': {'data': 'gas'}, 's4': {'data': '5 kg'}, 's5': {'orders': [{'product': 'petrol', 'quantity': '2 ltr'}, {'product': 'gas', 'quantity': '5 kg'}], 'data': 'no'}}}}\n",
      "adapter data {'pos': 's2', 's1': {'data': 'hi'}, 'ss1': {'pos': 'c2', 'c2': {'s3': {'data': 'gas'}, 's4': {'data': '5 kg'}, 's5': {'orders': [{'product': 'petrol', 'quantity': '2 ltr'}, {'product': 'gas', 'quantity': '5 kg'}], 'data': 'no'}}}}\n"
     ]
    },
    {
     "data": {
      "text/plain": [
       "'thanks\\nDo you want to confirm order?'"
      ]
     },
     "execution_count": 23,
     "metadata": {},
     "output_type": "execute_result"
    }
   ],
   "source": [
    "bot.respond('no', 0)"
   ]
  },
  {
   "cell_type": "code",
   "execution_count": null,
   "metadata": {},
   "outputs": [],
   "source": []
  },
  {
   "cell_type": "code",
   "execution_count": null,
   "metadata": {},
   "outputs": [],
   "source": []
  },
  {
   "cell_type": "code",
   "execution_count": null,
   "metadata": {},
   "outputs": [],
   "source": []
  },
  {
   "cell_type": "code",
   "execution_count": 34,
   "metadata": {},
   "outputs": [
    {
     "data": {
      "text/plain": [
       "-1"
      ]
     },
     "execution_count": 34,
     "metadata": {},
     "output_type": "execute_result"
    }
   ],
   "source": [
    "tryint('a123')"
   ]
  },
  {
   "cell_type": "code",
   "execution_count": 2,
   "metadata": {},
   "outputs": [],
   "source": [
    "ComputeSegment??"
   ]
  },
  {
   "cell_type": "code",
   "execution_count": null,
   "metadata": {},
   "outputs": [],
   "source": []
  },
  {
   "cell_type": "code",
   "execution_count": null,
   "metadata": {},
   "outputs": [],
   "source": []
  },
  {
   "cell_type": "code",
   "execution_count": null,
   "metadata": {},
   "outputs": [],
   "source": []
  },
  {
   "cell_type": "code",
   "execution_count": 9,
   "metadata": {},
   "outputs": [
    {
     "data": {
      "text/plain": [
       "<class 'pipe.Composite.Composite'>: main"
      ]
     },
     "execution_count": 9,
     "metadata": {},
     "output_type": "execute_result"
    }
   ],
   "source": [
    "bot.cur"
   ]
  },
  {
   "cell_type": "code",
   "execution_count": 10,
   "metadata": {},
   "outputs": [
    {
     "data": {
      "text/plain": [
       "<class 'pipe.Segment.ValidatedSegment'>: mobile"
      ]
     },
     "execution_count": 10,
     "metadata": {},
     "output_type": "execute_result"
    }
   ],
   "source": [
    "info.cur"
   ]
  },
  {
   "cell_type": "code",
   "execution_count": 14,
   "metadata": {},
   "outputs": [
    {
     "data": {
      "text/plain": [
       "(<class 'pipe.Segment.Segment'>: intro,\n",
       " <class 'pipe.Splitter.SkipSplitter'>: info)"
      ]
     },
     "execution_count": 14,
     "metadata": {},
     "output_type": "execute_result"
    }
   ],
   "source": [
    "bot.args"
   ]
  },
  {
   "cell_type": "code",
   "execution_count": 15,
   "metadata": {},
   "outputs": [
    {
     "data": {
      "text/plain": [
       "<class 'pipe.Splitter.SkipSplitter'>: info"
      ]
     },
     "execution_count": 15,
     "metadata": {},
     "output_type": "execute_result"
    }
   ],
   "source": [
    "bot.args[0].next"
   ]
  },
  {
   "cell_type": "code",
   "execution_count": null,
   "metadata": {},
   "outputs": [],
   "source": [
    "Loo"
   ]
  }
 ],
 "metadata": {
  "kernelspec": {
   "display_name": "Python 3",
   "language": "python",
   "name": "python3"
  },
  "language_info": {
   "codemirror_mode": {
    "name": "ipython",
    "version": 3
   },
   "file_extension": ".py",
   "mimetype": "text/x-python",
   "name": "python",
   "nbconvert_exporter": "python",
   "pygments_lexer": "ipython3",
   "version": "3.7.9"
  }
 },
 "nbformat": 4,
 "nbformat_minor": 2
}
